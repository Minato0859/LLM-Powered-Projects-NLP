{
  "nbformat": 4,
  "nbformat_minor": 0,
  "metadata": {
    "colab": {
      "provenance": [],
      "toc_visible": true,
      "include_colab_link": true
    },
    "kernelspec": {
      "name": "python3",
      "display_name": "Python 3"
    }
  },
  "cells": [
    {
      "cell_type": "markdown",
      "metadata": {
        "id": "view-in-github",
        "colab_type": "text"
      },
      "source": [
        "<a href=\"https://colab.research.google.com/github/Minato0859/LLM-Powered-Projects-NLP/blob/main/AILL_Workshop_2_%5BPython_Crash_Course_using_LLMs%5D.ipynb\" target=\"_parent\"><img src=\"https://colab.research.google.com/assets/colab-badge.svg\" alt=\"Open In Colab\"/></a>"
      ]
    },
    {
      "cell_type": "markdown",
      "metadata": {
        "id": "9z3pVdyJsYQA"
      },
      "source": [
        "<center><h1> AI Launch Lab - Dawson AI Program  </h1></center>\n",
        "<center><h2> Summer - 2023 </h2></center>\n",
        "<!-- <center><h2> Workshop-2 </h2></center> -->\n",
        "\n",
        "\n",
        "\n",
        "\n",
        "<center><h3> </h3></center>\n",
        "<center><h3> Introduction to Python (Using LLMs) </h3></center>\n",
        "\n",
        "\n",
        "---\n",
        "\n",
        "\n",
        "\n",
        "This Google Colab notebook will walk you through a tutorial on Python. You will make use of [ChatGPT](https://chat.openai.com/) or [Hugging Chat](https://huggingface.co/chat/) as a mentor and assistant while learning to program and/or improve your programming skills. You will find ChatGPT may produce irrelevant or incorrect results, but its responses can be improved with better prompts.  \n",
        "\n",
        "**Let's get started!**"
      ]
    },
    {
      "cell_type": "markdown",
      "source": [
        "*   Code Generation and Completion\n",
        "*   Troubleshooting and Debugging Assistance\n",
        "*   Code Refactoring and Optimization\n",
        "*   Documentation\n"
      ],
      "metadata": {
        "id": "1kFRG-KmzeEY"
      }
    },
    {
      "cell_type": "markdown",
      "source": [
        "# Code Generation and Completion"
      ],
      "metadata": {
        "id": "S8xpid1L9439"
      }
    },
    {
      "cell_type": "markdown",
      "source": [
        "![image.png](data:image/png;base64,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)"
      ],
      "metadata": {
        "id": "ImD81LADFj2y"
      }
    },
    {
      "cell_type": "markdown",
      "source": [
        "To find values of `x` and `y` that satisfy the equation `ax + by = n`, we can use the Extended Euclidean Algorithm. This algorithm calculates the greatest common divisor (GCD) of two numbers and provides a way to express it as a linear combination of those numbers.\n",
        "\n",
        "Here's a Python function that implements the Extended Euclidean Algorithm to find `x` and `y` for the given equation:\n",
        "\n",
        "```python\n",
        "def find_x_y(a, b, n):\n",
        "    if b == 0:\n",
        "        return n/a, 0\n",
        "    \n",
        "    x_prev, y_prev = 1, 0\n",
        "    x, y = 0, 1\n",
        "\n",
        "    while b != 0:\n",
        "        quotient = a // b\n",
        "        a, b = b, a % b\n",
        "        x_prev, x = x, x_prev - quotient * x\n",
        "        y_prev, y = y, y_prev - quotient * y\n",
        "\n",
        "    return x_prev * (n // a), y_prev * (n // a)\n",
        "```\n",
        "\n",
        "In this function, `a` and `b` are the coefficients of `x` and `y` respectively, and `n` is the target value. The function returns a tuple `(x, y)` that satisfies the equation `ax + by = n`.\n",
        "\n",
        "Let's test the function with an example:\n",
        "\n",
        "```python\n",
        "a = 5\n",
        "b = 7\n",
        "n = 29\n",
        "\n",
        "x, y = find_x_y(a, b, n)\n",
        "print(f\"x = {x}, y = {y}\")\n",
        "```\n",
        "\n",
        "Output:\n",
        "```\n",
        "x = 4, y = -3\n",
        "```\n",
        "\n",
        "In this example, the values of `x` and `y` that satisfy `5x + 7y = 29` are `x = 4` and `y = -3`."
      ],
      "metadata": {
        "id": "ZaIlLur0J17T"
      }
    },
    {
      "cell_type": "code",
      "source": [
        "def find_x_y(a, b, n):\n",
        "    if b == 0:\n",
        "        return n/a, 0\n",
        "\n",
        "    x_prev, y_prev = 1, 0\n",
        "    x, y = 0, 1\n",
        "\n",
        "    while b != 0:\n",
        "        quotient = a // b\n",
        "        a, b = b, a % b\n",
        "        x_prev, x = x, x_prev - quotient * x\n",
        "        y_prev, y = y, y_prev - quotient * y\n",
        "\n",
        "    return x_prev * (n // a), y_prev * (n // a)\n"
      ],
      "metadata": {
        "id": "WSyzfpiLFkT5"
      },
      "execution_count": null,
      "outputs": []
    },
    {
      "cell_type": "code",
      "source": [
        "a = 5\n",
        "b = 7\n",
        "n = 29\n",
        "\n",
        "x, y = find_x_y(a, b, n)\n",
        "print(f\"x = {x}, y = {y}\")"
      ],
      "metadata": {
        "colab": {
          "base_uri": "https://localhost:8080/"
        },
        "id": "l3sEfJ1rJ7MO",
        "outputId": "e7ecaf60-c47d-4016-dd65-95da61956d85"
      },
      "execution_count": null,
      "outputs": [
        {
          "output_type": "stream",
          "name": "stdout",
          "text": [
            "x = 87, y = -58\n"
          ]
        }
      ]
    },
    {
      "cell_type": "code",
      "source": [
        "import math\n",
        "\n",
        "def calculate_triangle_area(a, b, c):\n",
        "    # Calculate the semi-perimeter of the triangle\n",
        "    s = (a + b + c) / 2\n",
        "\n",
        "    # Calculate the area using Heron's formula\n",
        "    area = math.sqrt(s * (s - a) * (s - b) * (s - c))\n",
        "\n",
        "    return area\n",
        "\n",
        "# Taking input from the user\n",
        "a = float(input(\"Enter the length of side A: \"))\n",
        "b = float(input(\"Enter the length of side B: \"))\n",
        "c = float(input(\"Enter the length of side C: \"))\n",
        "\n",
        "# Calculating the triangle area\n",
        "triangle_area = calculate_triangle_area(a, b, c)\n",
        "\n",
        "# Printing the result\n",
        "print(\"The area of the triangle is:\", triangle_area)\n"
      ],
      "metadata": {
        "colab": {
          "base_uri": "https://localhost:8080/"
        },
        "id": "op4fTQz5ZD7Y",
        "outputId": "365cc535-fd2f-4237-d4ef-a2e0f057eab4"
      },
      "execution_count": null,
      "outputs": [
        {
          "output_type": "stream",
          "name": "stdout",
          "text": [
            "Enter the length of side A: 3\n",
            "Enter the length of side B: 4\n",
            "Enter the length of side C: 5\n",
            "The area of the triangle is: 6.0\n"
          ]
        }
      ]
    },
    {
      "cell_type": "code",
      "source": [
        "import math\n",
        "\n",
        "def calculate_triangle_area(a, b, c):\n",
        "    # Calculate the semi-perimeter of the triangle\n",
        "    s = (a + b + c) / 2\n",
        "\n",
        "    # Calculate the area using Heron's formula\n",
        "    area = math.sqrt(s * (s - a) * (s - b) * (s - c))\n",
        "\n",
        "    return area\n",
        "\n",
        "# Taking input from the user and validating the triangle condition\n",
        "valid_triangle = False\n",
        "while not valid_triangle:\n",
        "    a = float(input(\"Enter the length of side A: \"))\n",
        "    b = float(input(\"Enter the length of side B: \"))\n",
        "    c = float(input(\"Enter the length of side C: \"))\n",
        "\n",
        "    if a + b > c and a + c > b and b + c > a:\n",
        "        valid_triangle = True\n",
        "    else:\n",
        "        print(\"The given lengths do not form a valid triangle. Please enter valid side lengths.\")\n",
        "\n",
        "# Calculating the triangle area\n",
        "triangle_area = calculate_triangle_area(a, b, c)\n",
        "\n",
        "# Printing the result\n",
        "print(\"The area of the triangle is:\", triangle_area)\n"
      ],
      "metadata": {
        "colab": {
          "base_uri": "https://localhost:8080/"
        },
        "id": "DjcMdFb1Zr5T",
        "outputId": "d768aed9-388d-4205-9659-95a34a62ed72"
      },
      "execution_count": null,
      "outputs": [
        {
          "output_type": "stream",
          "name": "stdout",
          "text": [
            "Enter the length of side A: 10\n",
            "Enter the length of side B: 5\n",
            "Enter the length of side C: 20\n",
            "The given lengths do not form a valid triangle. Please enter valid side lengths.\n",
            "Enter the length of side A: 10\n",
            "Enter the length of side B: 5\n",
            "Enter the length of side C: 21\n",
            "The given lengths do not form a valid triangle. Please enter valid side lengths.\n",
            "Enter the length of side A: 10\n",
            "Enter the length of side B: 15\n",
            "Enter the length of side C: 21\n",
            "The area of the triangle is: 69.16646586316233\n"
          ]
        }
      ]
    },
    {
      "cell_type": "markdown",
      "source": [
        "# Troubleshooting and Debugging Assistance"
      ],
      "metadata": {
        "id": "ZIsejcl1F4we"
      }
    },
    {
      "cell_type": "markdown",
      "source": [
        "**Original code with bug**"
      ],
      "metadata": {
        "id": "wb2C6GYnF-1Y"
      }
    },
    {
      "cell_type": "code",
      "source": [
        "def add_underscores(word):\n",
        "    new_word = \"\"\n",
        "    for char in word:\n",
        "        new_word = char + \"_\"\n",
        "    return new_word\n",
        "\n",
        "\n",
        "input_word = \"hello\"\n",
        "output_word = add_underscores(input_word)\n",
        "print(output_word)"
      ],
      "metadata": {
        "colab": {
          "base_uri": "https://localhost:8080/"
        },
        "id": "T0bQOHLYI5W1",
        "outputId": "39fe3077-a431-4829-c8c2-9943e3e69496"
      },
      "execution_count": null,
      "outputs": [
        {
          "output_type": "stream",
          "name": "stdout",
          "text": [
            "o_\n"
          ]
        }
      ]
    },
    {
      "cell_type": "markdown",
      "source": [
        "![image.png](data:image/png;base64,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)\n",
        "\n",
        "The issue with the provided code is that it overwrites the `new_word` variable in each iteration of the loop, resulting in only the last character of the input word being stored in `new_word`.\n",
        "\n",
        "To fix this, you need to concatenate each character and underscore to the `new_word` variable instead of overwriting it. Here's the corrected code:\n",
        "\n",
        "```python\n",
        "def add_underscores(word):\n",
        "    new_word = \"\"\n",
        "    for char in word:\n",
        "        new_word += char + \"_\"\n",
        "    return new_word[:-1]  # Remove the extra underscore at the end\n",
        "\n",
        "input_word = \"hello\"\n",
        "output_word = add_underscores(input_word)\n",
        "print(output_word)\n",
        "```\n",
        "\n",
        "The output will be:\n",
        "\n",
        "```\n",
        "h_e_l_l_o\n",
        "```\n",
        "\n",
        "In the corrected code, the `new_word` variable is initialized as an empty string (`\"\"`). Then, in each iteration of the loop, the current character (`char`) and an underscore are appended to `new_word` using the `+=` operator. Finally, the `[:-1]` slicing operation is used to remove the extra underscore at the end of the string before returning the result."
      ],
      "metadata": {
        "id": "YBghvEhHJBwL"
      }
    },
    {
      "cell_type": "markdown",
      "source": [
        "**Code fixed by ChatGPT**"
      ],
      "metadata": {
        "id": "9e_9jMBoJlZZ"
      }
    },
    {
      "cell_type": "code",
      "source": [
        "def add_underscores(word):\n",
        "    new_word = \"\"\n",
        "    for char in word:\n",
        "        new_word += char + \"_\"\n",
        "    return new_word[:-1]  # Remove the extra underscore at the end\n",
        "\n",
        "input_word = \"hello\"\n",
        "output_word = add_underscores(input_word)\n",
        "print(output_word)"
      ],
      "metadata": {
        "colab": {
          "base_uri": "https://localhost:8080/"
        },
        "id": "WK2FeaGeF3_9",
        "outputId": "1dc38a81-b5dd-4a73-8188-ac3430c15bb7"
      },
      "execution_count": null,
      "outputs": [
        {
          "output_type": "stream",
          "name": "stdout",
          "text": [
            "h_e_l_l_o\n"
          ]
        }
      ]
    },
    {
      "cell_type": "markdown",
      "source": [
        "# Code Refactoring and Optimization\n"
      ],
      "metadata": {
        "id": "YfO4_JxBKGJf"
      }
    },
    {
      "cell_type": "markdown",
      "source": [
        "**Original code**"
      ],
      "metadata": {
        "id": "t--JT0kDLA-9"
      }
    },
    {
      "cell_type": "code",
      "source": [
        "# Original loop\n",
        "for i in range(0, 10000):\n",
        "    print(i)"
      ],
      "metadata": {
        "id": "7l_X_7jiKFb6"
      },
      "execution_count": null,
      "outputs": []
    },
    {
      "cell_type": "markdown",
      "source": [
        "![image.png](data:image/png;base64,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)"
      ],
      "metadata": {
        "id": "3GogpFA7LJIS"
      }
    },
    {
      "cell_type": "markdown",
      "source": [],
      "metadata": {
        "id": "_SDSgQR8LIID"
      }
    },
    {
      "cell_type": "code",
      "source": [
        "for i in range(0, 10000, 100):\n",
        "    print(list(range(i, i + 100)))"
      ],
      "metadata": {
        "id": "dzpCx4BZLIp4"
      },
      "execution_count": null,
      "outputs": []
    },
    {
      "cell_type": "markdown",
      "source": [
        "# Documentation using LLMs"
      ],
      "metadata": {
        "id": "8oquasRx0FWw"
      }
    },
    {
      "cell_type": "markdown",
      "source": [
        "Recall the celsius to fahrenheit code example that was discussed in Week 1.\n",
        "\n",
        "In the following code, the ` celsius_to_fahrenheit() ` function takes a temperature value in Celsius as input and converts it to Fahrenheit using the formula `(Celsius * 9/5) + 32`. The result is then returned.\n",
        "\n",
        "You can try the code by setting the celsius_value variable to the temperature value you want to convert. The program will print the converted value in Fahrenheit."
      ],
      "metadata": {
        "id": "TpwUTZ7F0U41"
      }
    },
    {
      "cell_type": "code",
      "source": [
        "def celsius_to_fahrenheit(celsius):\n",
        "    fahrenheit = (celsius * 9/5) + 32\n",
        "    return fahrenheit\n",
        "\n",
        "celsius_value = 30\n",
        "fahrenheit_value = celsius_to_fahrenheit(celsius_value)\n",
        "print(f\"{celsius_value} degrees Celsius is equal to {fahrenheit_value} degrees Fahrenheit.\")"
      ],
      "metadata": {
        "id": "_7Hgzznhzdo9"
      },
      "execution_count": null,
      "outputs": []
    },
    {
      "cell_type": "markdown",
      "source": [
        "Code documentation refers to adding explanatory information about a piece of code, its purpose, and usage. It is used to explain the purpose of your code and functionality to others and to yourself.\n",
        "\n",
        "ChatGPT can help generate comments for your code, making it easier to maintain, understand, and share."
      ],
      "metadata": {
        "id": "2P_alIDj09xU"
      }
    },
    {
      "cell_type": "markdown",
      "source": [
        "![C_to_F_Intro_to_Python.png](data:image/png;base64,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)"
      ],
      "metadata": {
        "id": "YBdPu1qC2CdQ"
      }
    },
    {
      "cell_type": "markdown",
      "metadata": {
        "id": "VY48mAXCuRa-"
      },
      "source": [
        "# Python - Crash course\n",
        "\n",
        "Python is a powerful high-level interpreted language."
      ]
    },
    {
      "cell_type": "markdown",
      "metadata": {
        "id": "8OdsY0Zvl_Li"
      },
      "source": [
        "Official Website      : https://www.python.org/  \n",
        "Official Documentation: https://docs.python.org/3/\n"
      ]
    },
    {
      "cell_type": "markdown",
      "metadata": {
        "id": "7mNfVxhpsUiX"
      },
      "source": [
        "Google Colab Environment\n"
      ]
    },
    {
      "cell_type": "code",
      "metadata": {
        "id": "Tbtsceotnlvh",
        "colab": {
          "base_uri": "https://localhost:8080/"
        },
        "outputId": "61faba07-a384-46da-bee1-0dc4e29f3f6c"
      },
      "source": [
        "# This is a Linux command\n",
        "!python --version"
      ],
      "execution_count": null,
      "outputs": [
        {
          "output_type": "stream",
          "name": "stdout",
          "text": [
            "Python 3.10.12\n"
          ]
        }
      ]
    },
    {
      "cell_type": "code",
      "source": [
        "# This is a Python code\n",
        "print('Welcome to Python')"
      ],
      "metadata": {
        "colab": {
          "base_uri": "https://localhost:8080/"
        },
        "id": "3Jsc17o9_0Hy",
        "outputId": "92b26f79-1918-4306-e7a7-a7be709d7db4"
      },
      "execution_count": null,
      "outputs": [
        {
          "output_type": "stream",
          "name": "stdout",
          "text": [
            "Welcome to Python\n"
          ]
        }
      ]
    },
    {
      "cell_type": "code",
      "source": [
        "print('**********')"
      ],
      "metadata": {
        "colab": {
          "base_uri": "https://localhost:8080/"
        },
        "id": "E8igGhndA-f3",
        "outputId": "5959c22a-dfdd-4fd2-f94a-d96bb1db8ea8"
      },
      "execution_count": null,
      "outputs": [
        {
          "output_type": "stream",
          "name": "stdout",
          "text": [
            "**********\n"
          ]
        }
      ]
    },
    {
      "cell_type": "markdown",
      "metadata": {
        "id": "qgtLgu0-uplS"
      },
      "source": [
        "## Variables"
      ]
    },
    {
      "cell_type": "markdown",
      "metadata": {
        "id": "aJ0yODE9dpV6"
      },
      "source": [
        "Integers"
      ]
    },
    {
      "cell_type": "code",
      "metadata": {
        "id": "EJ4tZ5gYdrOv",
        "colab": {
          "base_uri": "https://localhost:8080/"
        },
        "outputId": "4bb4ea77-2ac4-4c03-e4d8-86216324ff8b"
      },
      "source": [
        "a = 11\n",
        "b = 3\n",
        "#print(\"Sum, difference, division:\", a + b, a - b, a // b)\n",
        "\n",
        "print('Sum = ',a+b)\n",
        "print('product = ',a*b)\n",
        "print('Quotient = ',a//b)\n",
        "print('Remainder = ',a%b)"
      ],
      "execution_count": null,
      "outputs": [
        {
          "output_type": "stream",
          "name": "stdout",
          "text": [
            "Sum =  14\n",
            "product =  33\n",
            "Quotient =  3\n",
            "Remainder =  2\n"
          ]
        }
      ]
    },
    {
      "cell_type": "code",
      "source": [
        "x = -150\n",
        "y = -25\n",
        "z = 30\n",
        "\n",
        "result = (x+y-z)*5"
      ],
      "metadata": {
        "id": "C13S5r0uCGcV"
      },
      "execution_count": null,
      "outputs": []
    },
    {
      "cell_type": "code",
      "source": [
        "result"
      ],
      "metadata": {
        "colab": {
          "base_uri": "https://localhost:8080/"
        },
        "id": "OYBLzbt4Ccc_",
        "outputId": "0ed08bde-63b5-4365-87af-feafd7426eb5"
      },
      "execution_count": null,
      "outputs": [
        {
          "output_type": "execute_result",
          "data": {
            "text/plain": [
              "-1025"
            ]
          },
          "metadata": {},
          "execution_count": 12
        }
      ]
    },
    {
      "cell_type": "code",
      "source": [
        "27/5, 27//5, 27%5"
      ],
      "metadata": {
        "colab": {
          "base_uri": "https://localhost:8080/"
        },
        "id": "OKnMf_N3CvB7",
        "outputId": "2ca375a0-acf8-4680-cb35-6c0cd15188e9"
      },
      "execution_count": null,
      "outputs": [
        {
          "output_type": "execute_result",
          "data": {
            "text/plain": [
              "(5.4, 5, 2)"
            ]
          },
          "metadata": {},
          "execution_count": 14
        }
      ]
    },
    {
      "cell_type": "markdown",
      "source": [
        "Exponent"
      ],
      "metadata": {
        "id": "spUAw60aDYVy"
      }
    },
    {
      "cell_type": "code",
      "source": [
        "base = 2\n",
        "exponent = 4\n",
        "\n",
        "power = base**exponent\n",
        "\n",
        "power"
      ],
      "metadata": {
        "colab": {
          "base_uri": "https://localhost:8080/"
        },
        "id": "UoIvaKoLe21R",
        "outputId": "d4de976a-48e7-4040-9564-ca58df574812"
      },
      "execution_count": null,
      "outputs": [
        {
          "output_type": "execute_result",
          "data": {
            "text/plain": [
              "16"
            ]
          },
          "metadata": {},
          "execution_count": 15
        }
      ]
    },
    {
      "cell_type": "code",
      "source": [
        "2**4"
      ],
      "metadata": {
        "colab": {
          "base_uri": "https://localhost:8080/"
        },
        "id": "nsHGbRr8Dprt",
        "outputId": "5dc8d929-1f78-4a49-c134-e94b2fc744fe"
      },
      "execution_count": null,
      "outputs": [
        {
          "output_type": "execute_result",
          "data": {
            "text/plain": [
              "16"
            ]
          },
          "metadata": {},
          "execution_count": 16
        }
      ]
    },
    {
      "cell_type": "code",
      "metadata": {
        "colab": {
          "base_uri": "https://localhost:8080/"
        },
        "id": "MCkW5nzraS7Z",
        "outputId": "89d8adff-f2a5-4576-aab2-850fb759ffcc"
      },
      "source": [
        "1//3"
      ],
      "execution_count": null,
      "outputs": [
        {
          "output_type": "execute_result",
          "data": {
            "text/plain": [
              "0"
            ]
          },
          "metadata": {
            "tags": []
          },
          "execution_count": 13
        }
      ]
    },
    {
      "cell_type": "code",
      "metadata": {
        "id": "pOFuenHmrROB",
        "colab": {
          "base_uri": "https://localhost:8080/"
        },
        "outputId": "001d3842-eb08-4136-f8b2-3426883d4a62"
      },
      "source": [
        "b**4"
      ],
      "execution_count": null,
      "outputs": [
        {
          "output_type": "execute_result",
          "data": {
            "text/plain": [
              "81"
            ]
          },
          "metadata": {},
          "execution_count": 17
        }
      ]
    },
    {
      "cell_type": "markdown",
      "metadata": {
        "id": "ZPpnUzuudus2"
      },
      "source": [
        "Floting point numbers"
      ]
    },
    {
      "cell_type": "code",
      "metadata": {
        "id": "1SOFVuFcrs-i",
        "colab": {
          "base_uri": "https://localhost:8080/"
        },
        "outputId": "b8367c2f-ab1e-487a-d0b9-0bd766e4374a"
      },
      "source": [
        "f = -1.678\n",
        "f"
      ],
      "execution_count": null,
      "outputs": [
        {
          "output_type": "execute_result",
          "data": {
            "text/plain": [
              "-1.678"
            ]
          },
          "metadata": {},
          "execution_count": 18
        }
      ]
    },
    {
      "cell_type": "code",
      "source": [
        "2e-2"
      ],
      "metadata": {
        "colab": {
          "base_uri": "https://localhost:8080/"
        },
        "id": "rPMnooKBD0N_",
        "outputId": "963ffa35-4039-48df-fcb6-ab2ce10d230c"
      },
      "execution_count": null,
      "outputs": [
        {
          "output_type": "execute_result",
          "data": {
            "text/plain": [
              "0.02"
            ]
          },
          "metadata": {},
          "execution_count": 40
        }
      ]
    },
    {
      "cell_type": "code",
      "source": [
        "2 * 10**-2"
      ],
      "metadata": {
        "colab": {
          "base_uri": "https://localhost:8080/"
        },
        "id": "fW75y_I5fzVR",
        "outputId": "ab6d473c-c9ab-4153-ee04-6de078909e52"
      },
      "execution_count": null,
      "outputs": [
        {
          "output_type": "execute_result",
          "data": {
            "text/plain": [
              "0.02"
            ]
          },
          "metadata": {},
          "execution_count": 22
        }
      ]
    },
    {
      "cell_type": "code",
      "source": [
        "2.67e-4"
      ],
      "metadata": {
        "colab": {
          "base_uri": "https://localhost:8080/"
        },
        "id": "0YilpUMof8g2",
        "outputId": "b8cedc44-7289-444b-b743-f85ef0aec3c7"
      },
      "execution_count": null,
      "outputs": [
        {
          "output_type": "execute_result",
          "data": {
            "text/plain": [
              "0.000267"
            ]
          },
          "metadata": {},
          "execution_count": 25
        }
      ]
    },
    {
      "cell_type": "code",
      "source": [
        "0.02/2"
      ],
      "metadata": {
        "colab": {
          "base_uri": "https://localhost:8080/"
        },
        "id": "fWv_yNqvfg2Z",
        "outputId": "127f1256-9f2a-4840-ccc3-4099feafc539"
      },
      "execution_count": null,
      "outputs": [
        {
          "output_type": "execute_result",
          "data": {
            "text/plain": [
              "0.01"
            ]
          },
          "metadata": {},
          "execution_count": 21
        }
      ]
    },
    {
      "cell_type": "code",
      "metadata": {
        "id": "oRM7cXildxrf",
        "colab": {
          "base_uri": "https://localhost:8080/"
        },
        "outputId": "8309d065-844a-4cb3-fdbf-9d78aa173c03"
      },
      "source": [
        "print(\"Floating point division:\", 4 / 2)"
      ],
      "execution_count": null,
      "outputs": [
        {
          "output_type": "stream",
          "text": [
            "Floating point division: 2.0\n"
          ],
          "name": "stdout"
        }
      ]
    },
    {
      "cell_type": "markdown",
      "metadata": {
        "id": "aRtsNkxLd7AB"
      },
      "source": [
        "Booleans"
      ]
    },
    {
      "cell_type": "code",
      "metadata": {
        "id": "mzvtZ2RceARU",
        "colab": {
          "base_uri": "https://localhost:8080/"
        },
        "outputId": "97148c87-ec28-43dc-e029-2b8f72e8130a"
      },
      "source": [
        "a = True\n",
        "b = False\n",
        "print(\"Boolean operations:\", a or b, a and b, not a)"
      ],
      "execution_count": null,
      "outputs": [
        {
          "output_type": "stream",
          "name": "stdout",
          "text": [
            "Boolean operations: True False False\n"
          ]
        }
      ]
    },
    {
      "cell_type": "code",
      "source": [
        "a and not b"
      ],
      "metadata": {
        "colab": {
          "base_uri": "https://localhost:8080/"
        },
        "id": "M3x5NYoHgU6o",
        "outputId": "6426309d-88cc-47f9-de33-aa33cb8f1bc3"
      },
      "execution_count": null,
      "outputs": [
        {
          "output_type": "execute_result",
          "data": {
            "text/plain": [
              "True"
            ]
          },
          "metadata": {},
          "execution_count": 34
        }
      ]
    },
    {
      "cell_type": "markdown",
      "metadata": {
        "id": "uVzLWAp7eCch"
      },
      "source": [
        "Strings"
      ]
    },
    {
      "cell_type": "code",
      "source": [
        "\"hello\""
      ],
      "metadata": {
        "colab": {
          "base_uri": "https://localhost:8080/",
          "height": 35
        },
        "id": "-kR2iYvWE8mZ",
        "outputId": "38ffbc9a-cd12-47ef-c704-9147f0fddb38"
      },
      "execution_count": null,
      "outputs": [
        {
          "output_type": "execute_result",
          "data": {
            "text/plain": [
              "'hello'"
            ],
            "application/vnd.google.colaboratory.intrinsic+json": {
              "type": "string"
            }
          },
          "metadata": {},
          "execution_count": 35
        }
      ]
    },
    {
      "cell_type": "code",
      "metadata": {
        "id": "jx9zZkzSeHH1",
        "colab": {
          "base_uri": "https://localhost:8080/"
        },
        "outputId": "922de96f-1c9d-4a06-dc07-1a3960565e53"
      },
      "source": [
        "s = ''\n",
        "print(\"String:\", s)"
      ],
      "execution_count": null,
      "outputs": [
        {
          "output_type": "stream",
          "name": "stdout",
          "text": [
            "String: \n"
          ]
        }
      ]
    },
    {
      "cell_type": "markdown",
      "metadata": {
        "id": "kgTGxeOFeLd1"
      },
      "source": [
        "Single quotes can also be used"
      ]
    },
    {
      "cell_type": "code",
      "metadata": {
        "id": "EkSoAMuJeIlX",
        "colab": {
          "base_uri": "https://localhost:8080/",
          "height": 35
        },
        "outputId": "57df5c90-7453-44a7-c58e-c7168371736a"
      },
      "source": [
        "a = 'This is a string too'\n",
        "a"
      ],
      "execution_count": null,
      "outputs": [
        {
          "output_type": "execute_result",
          "data": {
            "text/plain": [
              "'This is a string too'"
            ],
            "application/vnd.google.colaboratory.intrinsic+json": {
              "type": "string"
            }
          },
          "metadata": {},
          "execution_count": 37
        }
      ]
    },
    {
      "cell_type": "markdown",
      "metadata": {
        "id": "IvlWLUGLePla"
      },
      "source": [
        "We can split long strings like this"
      ]
    },
    {
      "cell_type": "code",
      "metadata": {
        "id": "Kv_M49fpeS0E",
        "colab": {
          "base_uri": "https://localhost:8080/",
          "height": 35
        },
        "outputId": "0014b911-b212-4273-9bb0-eac1cfbfb4eb"
      },
      "source": [
        "a = (\"Very very very \"\n",
        "     \"long long long \"\n",
        "     \"string in Python\"\n",
        "    )\n",
        "a"
      ],
      "execution_count": null,
      "outputs": [
        {
          "output_type": "execute_result",
          "data": {
            "application/vnd.google.colaboratory.intrinsic+json": {
              "type": "string"
            },
            "text/plain": [
              "'Very very very long long long string in Python'"
            ]
          },
          "metadata": {
            "tags": []
          },
          "execution_count": 26
        }
      ]
    },
    {
      "cell_type": "code",
      "source": [
        "WeirdstrInG = 'fsgfh4y2y42y43h4tej'"
      ],
      "metadata": {
        "id": "i5ZY_sI_k3DQ"
      },
      "execution_count": null,
      "outputs": []
    },
    {
      "cell_type": "code",
      "source": [
        "weird_string = 'Not so weird now'"
      ],
      "metadata": {
        "id": "iJe8Iupqk-UH"
      },
      "execution_count": null,
      "outputs": []
    },
    {
      "cell_type": "markdown",
      "metadata": {
        "id": "-_UfrpwQeXi4"
      },
      "source": [
        "Or use multiline string"
      ]
    },
    {
      "cell_type": "code",
      "metadata": {
        "id": "uAMadNw5eZQ7",
        "colab": {
          "base_uri": "https://localhost:8080/",
          "height": 35
        },
        "outputId": "09a6acd4-2a86-4c6d-dc58-21d028a2832c"
      },
      "source": [
        "# This is a single line comment\n",
        "\n",
        "\"\"\"\n",
        "This\n",
        "is\n",
        "a multiline\n",
        "comment\n",
        "\"\"\""
      ],
      "execution_count": null,
      "outputs": [
        {
          "output_type": "execute_result",
          "data": {
            "text/plain": [
              "'\\nThis\\nis\\na multiline\\ncomment\\n'"
            ],
            "application/vnd.google.colaboratory.intrinsic+json": {
              "type": "string"
            }
          },
          "metadata": {},
          "execution_count": 42
        }
      ]
    },
    {
      "cell_type": "code",
      "source": [
        "a = '''this\n",
        "is\n",
        "multiline\n",
        "string'''\n",
        "a"
      ],
      "metadata": {
        "colab": {
          "base_uri": "https://localhost:8080/",
          "height": 35
        },
        "id": "VQkDBNgLlRJW",
        "outputId": "359335d8-72b9-40d6-86bd-b0daa128d3ce"
      },
      "execution_count": null,
      "outputs": [
        {
          "output_type": "execute_result",
          "data": {
            "text/plain": [
              "'this\\nis\\nmultiline \\nstring'"
            ],
            "application/vnd.google.colaboratory.intrinsic+json": {
              "type": "string"
            }
          },
          "metadata": {},
          "execution_count": 43
        }
      ]
    },
    {
      "cell_type": "code",
      "source": [
        "print(a)"
      ],
      "metadata": {
        "colab": {
          "base_uri": "https://localhost:8080/"
        },
        "id": "AdlfA5ekmD0V",
        "outputId": "16e3a010-aaf2-4b84-f676-80e7162dd6c2"
      },
      "execution_count": null,
      "outputs": [
        {
          "output_type": "stream",
          "name": "stdout",
          "text": [
            "this\n",
            "is\n",
            "multiline \n",
            "string\n"
          ]
        }
      ]
    },
    {
      "cell_type": "code",
      "source": [
        "s = 'address'"
      ],
      "metadata": {
        "id": "7ugDlyWYGEZ5"
      },
      "execution_count": null,
      "outputs": []
    },
    {
      "cell_type": "code",
      "source": [
        "\"aujourd'hui\""
      ],
      "metadata": {
        "colab": {
          "base_uri": "https://localhost:8080/",
          "height": 35
        },
        "id": "_yZvm2T3mQ8t",
        "outputId": "0bcab35c-92cc-4680-d30a-39bef11d67b9"
      },
      "execution_count": null,
      "outputs": [
        {
          "output_type": "execute_result",
          "data": {
            "text/plain": [
              "\"aujourd'hui\""
            ],
            "application/vnd.google.colaboratory.intrinsic+json": {
              "type": "string"
            }
          },
          "metadata": {},
          "execution_count": 51
        }
      ]
    },
    {
      "cell_type": "code",
      "source": [
        "'mary\\'s lamb'"
      ],
      "metadata": {
        "colab": {
          "base_uri": "https://localhost:8080/",
          "height": 35
        },
        "id": "1iYaE0kOmloR",
        "outputId": "f3dfb816-f8ed-44e6-8615-7b28276a23a6"
      },
      "execution_count": null,
      "outputs": [
        {
          "output_type": "execute_result",
          "data": {
            "text/plain": [
              "\"mary's lamb\""
            ],
            "application/vnd.google.colaboratory.intrinsic+json": {
              "type": "string"
            }
          },
          "metadata": {},
          "execution_count": 50
        }
      ]
    },
    {
      "cell_type": "code",
      "metadata": {
        "id": "gcHnUKXyx3YS",
        "colab": {
          "base_uri": "https://localhost:8080/",
          "height": 133
        },
        "outputId": "bbb2adf7-fdc2-4cce-d7e5-2ee49e64ecb4"
      },
      "source": [
        "a = \"aaa\n",
        "ssss\""
      ],
      "execution_count": null,
      "outputs": [
        {
          "output_type": "error",
          "ename": "SyntaxError",
          "evalue": "ignored",
          "traceback": [
            "\u001b[0;36m  File \u001b[0;32m\"<ipython-input-45-1a07051896c1>\"\u001b[0;36m, line \u001b[0;32m1\u001b[0m\n\u001b[0;31m    a = \"aaa\u001b[0m\n\u001b[0m             ^\u001b[0m\n\u001b[0;31mSyntaxError\u001b[0m\u001b[0;31m:\u001b[0m EOL while scanning string literal\n"
          ]
        }
      ]
    },
    {
      "cell_type": "code",
      "metadata": {
        "id": "3scF_mioss5e",
        "colab": {
          "base_uri": "https://localhost:8080/",
          "height": 35
        },
        "outputId": "6807b44e-b542-4c76-82dc-c58c29bef4af"
      },
      "source": [
        "a = \"this \\n is \\n multiline \\n string\"\n",
        "a"
      ],
      "execution_count": null,
      "outputs": [
        {
          "output_type": "execute_result",
          "data": {
            "application/vnd.google.colaboratory.intrinsic+json": {
              "type": "string"
            },
            "text/plain": [
              "'this \\n is \\n multiline \\n string'"
            ]
          },
          "metadata": {
            "tags": []
          },
          "execution_count": 31
        }
      ]
    },
    {
      "cell_type": "markdown",
      "metadata": {
        "id": "OJXyqzJ_ehNm"
      },
      "source": [
        "String concatenation"
      ]
    },
    {
      "cell_type": "code",
      "metadata": {
        "id": "wxNX3yCOejzb",
        "colab": {
          "base_uri": "https://localhost:8080/",
          "height": 35
        },
        "outputId": "b5e74286-8f07-451d-f751-7ea64871a4ce"
      },
      "source": [
        "\"str\" + \"ing\""
      ],
      "execution_count": null,
      "outputs": [
        {
          "output_type": "execute_result",
          "data": {
            "text/plain": [
              "'string'"
            ],
            "application/vnd.google.colaboratory.intrinsic+json": {
              "type": "string"
            }
          },
          "metadata": {},
          "execution_count": 52
        }
      ]
    },
    {
      "cell_type": "code",
      "metadata": {
        "id": "MFb33oY8tOoP",
        "colab": {
          "base_uri": "https://localhost:8080/",
          "height": 35
        },
        "outputId": "f5cf07f3-4b4d-483e-a58e-b3d5ba2214a4"
      },
      "source": [
        "a = 'hello'\n",
        "b = 'world'\n",
        "c = a + ' ' + b\n",
        "c"
      ],
      "execution_count": null,
      "outputs": [
        {
          "output_type": "execute_result",
          "data": {
            "text/plain": [
              "'hello world'"
            ],
            "application/vnd.google.colaboratory.intrinsic+json": {
              "type": "string"
            }
          },
          "metadata": {},
          "execution_count": 53
        }
      ]
    },
    {
      "cell_type": "code",
      "source": [
        "type(a)"
      ],
      "metadata": {
        "colab": {
          "base_uri": "https://localhost:8080/"
        },
        "id": "YUfUsQOsG5kd",
        "outputId": "0de71453-5f8a-449d-91e8-c642cb5e3af0"
      },
      "execution_count": null,
      "outputs": [
        {
          "output_type": "execute_result",
          "data": {
            "text/plain": [
              "str"
            ]
          },
          "metadata": {},
          "execution_count": 54
        }
      ]
    },
    {
      "cell_type": "code",
      "source": [
        "a = 1\n",
        "type(a)"
      ],
      "metadata": {
        "colab": {
          "base_uri": "https://localhost:8080/"
        },
        "id": "OVVMp8r6G8yq",
        "outputId": "19e2ef9c-64ce-4200-bce8-dfdaa9cf7121"
      },
      "execution_count": null,
      "outputs": [
        {
          "output_type": "execute_result",
          "data": {
            "text/plain": [
              "int"
            ]
          },
          "metadata": {},
          "execution_count": 55
        }
      ]
    },
    {
      "cell_type": "code",
      "source": [
        "a = 1.67\n",
        "type(a)"
      ],
      "metadata": {
        "colab": {
          "base_uri": "https://localhost:8080/"
        },
        "id": "MfU_-f7MG_74",
        "outputId": "6c56910a-15c8-48a3-fd79-26227470fade"
      },
      "execution_count": null,
      "outputs": [
        {
          "output_type": "execute_result",
          "data": {
            "text/plain": [
              "float"
            ]
          },
          "metadata": {},
          "execution_count": 56
        }
      ]
    },
    {
      "cell_type": "code",
      "source": [
        "a = ''\n",
        "type(a)"
      ],
      "metadata": {
        "colab": {
          "base_uri": "https://localhost:8080/"
        },
        "id": "2yDxUDUnHDg7",
        "outputId": "28b54098-030d-4e73-ccad-415287057e0a"
      },
      "execution_count": null,
      "outputs": [
        {
          "output_type": "execute_result",
          "data": {
            "text/plain": [
              "str"
            ]
          },
          "metadata": {},
          "execution_count": 57
        }
      ]
    },
    {
      "cell_type": "code",
      "source": [
        "b = True\n",
        "type(b)"
      ],
      "metadata": {
        "colab": {
          "base_uri": "https://localhost:8080/"
        },
        "id": "ik2oq6qdHMKd",
        "outputId": "a553983e-42b6-4743-e0c8-d24b21c453cf"
      },
      "execution_count": null,
      "outputs": [
        {
          "output_type": "execute_result",
          "data": {
            "text/plain": [
              "bool"
            ]
          },
          "metadata": {},
          "execution_count": 58
        }
      ]
    },
    {
      "cell_type": "code",
      "source": [
        "type(1.67)"
      ],
      "metadata": {
        "colab": {
          "base_uri": "https://localhost:8080/"
        },
        "id": "mArol5v8HSqp",
        "outputId": "bf8e400d-f1d1-4158-95f5-ebae15d94b28"
      },
      "execution_count": null,
      "outputs": [
        {
          "output_type": "execute_result",
          "data": {
            "text/plain": [
              "float"
            ]
          },
          "metadata": {},
          "execution_count": 59
        }
      ]
    },
    {
      "cell_type": "markdown",
      "metadata": {
        "id": "gyJYt_dJepTs"
      },
      "source": [
        "Some of useful string methods:"
      ]
    },
    {
      "cell_type": "code",
      "metadata": {
        "id": "TfkggKXletFA",
        "colab": {
          "base_uri": "https://localhost:8080/"
        },
        "outputId": "d1085d89-23a5-4da0-be8f-f41f3e85147b"
      },
      "source": [
        "a = \"\"\n",
        "dir(a)"
      ],
      "execution_count": null,
      "outputs": [
        {
          "output_type": "execute_result",
          "data": {
            "text/plain": [
              "['__add__',\n",
              " '__class__',\n",
              " '__contains__',\n",
              " '__delattr__',\n",
              " '__dir__',\n",
              " '__doc__',\n",
              " '__eq__',\n",
              " '__format__',\n",
              " '__ge__',\n",
              " '__getattribute__',\n",
              " '__getitem__',\n",
              " '__getnewargs__',\n",
              " '__gt__',\n",
              " '__hash__',\n",
              " '__init__',\n",
              " '__init_subclass__',\n",
              " '__iter__',\n",
              " '__le__',\n",
              " '__len__',\n",
              " '__lt__',\n",
              " '__mod__',\n",
              " '__mul__',\n",
              " '__ne__',\n",
              " '__new__',\n",
              " '__reduce__',\n",
              " '__reduce_ex__',\n",
              " '__repr__',\n",
              " '__rmod__',\n",
              " '__rmul__',\n",
              " '__setattr__',\n",
              " '__sizeof__',\n",
              " '__str__',\n",
              " '__subclasshook__',\n",
              " 'capitalize',\n",
              " 'casefold',\n",
              " 'center',\n",
              " 'count',\n",
              " 'encode',\n",
              " 'endswith',\n",
              " 'expandtabs',\n",
              " 'find',\n",
              " 'format',\n",
              " 'format_map',\n",
              " 'index',\n",
              " 'isalnum',\n",
              " 'isalpha',\n",
              " 'isascii',\n",
              " 'isdecimal',\n",
              " 'isdigit',\n",
              " 'isidentifier',\n",
              " 'islower',\n",
              " 'isnumeric',\n",
              " 'isprintable',\n",
              " 'isspace',\n",
              " 'istitle',\n",
              " 'isupper',\n",
              " 'join',\n",
              " 'ljust',\n",
              " 'lower',\n",
              " 'lstrip',\n",
              " 'maketrans',\n",
              " 'partition',\n",
              " 'replace',\n",
              " 'rfind',\n",
              " 'rindex',\n",
              " 'rjust',\n",
              " 'rpartition',\n",
              " 'rsplit',\n",
              " 'rstrip',\n",
              " 'split',\n",
              " 'splitlines',\n",
              " 'startswith',\n",
              " 'strip',\n",
              " 'swapcase',\n",
              " 'title',\n",
              " 'translate',\n",
              " 'upper',\n",
              " 'zfill']"
            ]
          },
          "metadata": {},
          "execution_count": 72
        }
      ]
    },
    {
      "cell_type": "code",
      "metadata": {
        "colab": {
          "base_uri": "https://localhost:8080/",
          "height": 35
        },
        "id": "l3JyOoLZcV1r",
        "outputId": "16d4a322-7f09-4adc-a1a1-7a84a33eda84"
      },
      "source": [
        "a = 'Q'\n",
        "a.lower()"
      ],
      "execution_count": null,
      "outputs": [
        {
          "output_type": "execute_result",
          "data": {
            "text/plain": [
              "'q'"
            ],
            "application/vnd.google.colaboratory.intrinsic+json": {
              "type": "string"
            }
          },
          "metadata": {},
          "execution_count": 60
        }
      ]
    },
    {
      "cell_type": "code",
      "source": [
        "s = 'wEiRdstrING'\n",
        "s.swapcase()"
      ],
      "metadata": {
        "colab": {
          "base_uri": "https://localhost:8080/",
          "height": 35
        },
        "id": "skTm0BDqnUZI",
        "outputId": "36b97fd8-d796-4dd4-bee1-f4106e303788"
      },
      "execution_count": null,
      "outputs": [
        {
          "output_type": "execute_result",
          "data": {
            "text/plain": [
              "'WeIrDSTRing'"
            ],
            "application/vnd.google.colaboratory.intrinsic+json": {
              "type": "string"
            }
          },
          "metadata": {},
          "execution_count": 62
        }
      ]
    },
    {
      "cell_type": "code",
      "source": [
        "s.upper()"
      ],
      "metadata": {
        "colab": {
          "base_uri": "https://localhost:8080/",
          "height": 35
        },
        "id": "x0K_3I4snbLa",
        "outputId": "e7123977-89fe-4436-8cb8-93487f5cf739"
      },
      "execution_count": null,
      "outputs": [
        {
          "output_type": "execute_result",
          "data": {
            "text/plain": [
              "'WEIRDSTRING'"
            ],
            "application/vnd.google.colaboratory.intrinsic+json": {
              "type": "string"
            }
          },
          "metadata": {},
          "execution_count": 63
        }
      ]
    },
    {
      "cell_type": "code",
      "source": [
        "s.startswith('w')"
      ],
      "metadata": {
        "colab": {
          "base_uri": "https://localhost:8080/"
        },
        "id": "8ilWRzHmni73",
        "outputId": "df9c269f-14a9-4632-c861-21ff7510cdc9"
      },
      "execution_count": null,
      "outputs": [
        {
          "output_type": "execute_result",
          "data": {
            "text/plain": [
              "True"
            ]
          },
          "metadata": {},
          "execution_count": 65
        }
      ]
    },
    {
      "cell_type": "code",
      "metadata": {
        "id": "MqW1uqoDv2_V",
        "colab": {
          "base_uri": "https://localhost:8080/"
        },
        "outputId": "8901bc03-4d41-4cd9-a66a-a73c66883b88"
      },
      "source": [
        "a = 'string'\n",
        "type(a)"
      ],
      "execution_count": null,
      "outputs": [
        {
          "output_type": "execute_result",
          "data": {
            "text/plain": [
              "str"
            ]
          },
          "metadata": {},
          "execution_count": 66
        }
      ]
    },
    {
      "cell_type": "code",
      "source": [
        "len(a)"
      ],
      "metadata": {
        "colab": {
          "base_uri": "https://localhost:8080/"
        },
        "id": "JVNlhujun2sc",
        "outputId": "618fec72-49ba-4b84-b549-e1f42d38ebe9"
      },
      "execution_count": null,
      "outputs": [
        {
          "output_type": "execute_result",
          "data": {
            "text/plain": [
              "6"
            ]
          },
          "metadata": {},
          "execution_count": 67
        }
      ]
    },
    {
      "cell_type": "code",
      "metadata": {
        "colab": {
          "base_uri": "https://localhost:8080/"
        },
        "id": "JkAFC6Accm4w",
        "outputId": "1aa7dfb2-ddda-420c-9dd6-a4c2732b1bbe"
      },
      "source": [
        "p = 1.5\n",
        "type(p)"
      ],
      "execution_count": null,
      "outputs": [
        {
          "output_type": "execute_result",
          "data": {
            "text/plain": [
              "float"
            ]
          },
          "metadata": {
            "tags": []
          },
          "execution_count": 41
        }
      ]
    },
    {
      "cell_type": "code",
      "metadata": {
        "id": "HkgLmpw6wb5H",
        "colab": {
          "base_uri": "https://localhost:8080/"
        },
        "outputId": "0661a239-9699-4b6e-edbb-d2d7bf780d0e"
      },
      "source": [
        "a.__len__()"
      ],
      "execution_count": null,
      "outputs": [
        {
          "output_type": "execute_result",
          "data": {
            "text/plain": [
              "6"
            ]
          },
          "metadata": {
            "tags": []
          },
          "execution_count": 42
        }
      ]
    },
    {
      "cell_type": "code",
      "metadata": {
        "colab": {
          "base_uri": "https://localhost:8080/",
          "height": 35
        },
        "id": "o0cgXw9Zc01M",
        "outputId": "d384780c-9ffb-4ffe-9b17-ca3f99efca40"
      },
      "source": [
        "\"\"+'1'"
      ],
      "execution_count": null,
      "outputs": [
        {
          "output_type": "execute_result",
          "data": {
            "application/vnd.google.colaboratory.intrinsic+json": {
              "type": "string"
            },
            "text/plain": [
              "'1'"
            ]
          },
          "metadata": {
            "tags": []
          },
          "execution_count": 44
        }
      ]
    },
    {
      "cell_type": "code",
      "metadata": {
        "id": "f59mF09EwwKE",
        "colab": {
          "base_uri": "https://localhost:8080/"
        },
        "outputId": "1b141e2e-3332-4c7c-d3f7-f6d2659ca19f"
      },
      "source": [
        "len(a)"
      ],
      "execution_count": null,
      "outputs": [
        {
          "output_type": "execute_result",
          "data": {
            "text/plain": [
              "6"
            ]
          },
          "metadata": {},
          "execution_count": 77
        }
      ]
    },
    {
      "cell_type": "code",
      "metadata": {
        "id": "wTYzmQsVxBSu",
        "colab": {
          "base_uri": "https://localhost:8080/",
          "height": 35
        },
        "outputId": "0594a4fd-8802-44ec-e2d4-b796ca15c9d5"
      },
      "source": [
        "a = \"aujourd'hui\"\n",
        "a"
      ],
      "execution_count": null,
      "outputs": [
        {
          "output_type": "execute_result",
          "data": {
            "text/plain": [
              "\"aujourd'hui\""
            ],
            "application/vnd.google.colaboratory.intrinsic+json": {
              "type": "string"
            }
          },
          "metadata": {},
          "execution_count": 79
        }
      ]
    },
    {
      "cell_type": "code",
      "metadata": {
        "colab": {
          "base_uri": "https://localhost:8080/",
          "height": 35
        },
        "id": "tS8962Z-dPf7",
        "outputId": "c79745dd-f48a-45c5-8a1b-04a625963f21"
      },
      "source": [
        "a = 'aujourd\\'hui'\n",
        "a"
      ],
      "execution_count": null,
      "outputs": [
        {
          "output_type": "execute_result",
          "data": {
            "text/plain": [
              "\"aujourd'hui\""
            ],
            "application/vnd.google.colaboratory.intrinsic+json": {
              "type": "string"
            }
          },
          "metadata": {},
          "execution_count": 80
        }
      ]
    },
    {
      "cell_type": "code",
      "metadata": {
        "id": "d_aExStzxG7j",
        "colab": {
          "base_uri": "https://localhost:8080/"
        },
        "outputId": "27d92b84-9782-47f5-805a-122625780c20"
      },
      "source": [
        "a = '5.5\"'\n",
        "print(a)"
      ],
      "execution_count": null,
      "outputs": [
        {
          "output_type": "stream",
          "name": "stdout",
          "text": [
            "5.5\"\n"
          ]
        }
      ]
    },
    {
      "cell_type": "markdown",
      "metadata": {
        "id": "vtQDPYB-fY7x"
      },
      "source": [
        "Try following methods: `.endswith`, `.join`, `.capitalize`"
      ]
    },
    {
      "cell_type": "code",
      "metadata": {
        "id": "7mhnwQ6Rt2-e",
        "colab": {
          "base_uri": "https://localhost:8080/"
        },
        "outputId": "b5a5d596-9eeb-4aa9-a17b-8d2cf2f9fd1b"
      },
      "source": [
        "s = 'hello'\n",
        "s.endswith('o',1,5)"
      ],
      "execution_count": null,
      "outputs": [
        {
          "output_type": "execute_result",
          "data": {
            "text/plain": [
              "True"
            ]
          },
          "metadata": {},
          "execution_count": 72
        }
      ]
    },
    {
      "cell_type": "code",
      "metadata": {
        "id": "S9dj-ZaUu5_d",
        "colab": {
          "base_uri": "https://localhost:8080/"
        },
        "outputId": "9222e896-a17e-47f8-83b1-5ad427df9c41"
      },
      "source": [
        "'world'.endswith('rld')"
      ],
      "execution_count": null,
      "outputs": [
        {
          "output_type": "execute_result",
          "data": {
            "text/plain": [
              "True"
            ]
          },
          "metadata": {},
          "execution_count": 70
        }
      ]
    },
    {
      "cell_type": "code",
      "source": [
        "s = 'world'\n",
        "s.endswith('lrld')"
      ],
      "metadata": {
        "colab": {
          "base_uri": "https://localhost:8080/"
        },
        "id": "42xxSdlVII3x",
        "outputId": "8521596e-a86b-49c1-fc2e-6086af08791c"
      },
      "execution_count": null,
      "outputs": [
        {
          "output_type": "execute_result",
          "data": {
            "text/plain": [
              "False"
            ]
          },
          "metadata": {},
          "execution_count": 84
        }
      ]
    },
    {
      "cell_type": "markdown",
      "metadata": {
        "id": "rWnykIjkfhly"
      },
      "source": [
        "String formatting"
      ]
    },
    {
      "cell_type": "code",
      "source": [
        "x = 'hElLoWoRlDoFPyThoN'"
      ],
      "metadata": {
        "id": "0TzVjNbWIuPK"
      },
      "execution_count": null,
      "outputs": []
    },
    {
      "cell_type": "code",
      "source": [
        "'hElLoWoRlD'.swapcase()"
      ],
      "metadata": {
        "colab": {
          "base_uri": "https://localhost:8080/",
          "height": 35
        },
        "id": "I7R9WfGkKMIV",
        "outputId": "ba76ad94-5e4b-46d1-d0ad-0984c4fb115a"
      },
      "execution_count": null,
      "outputs": [
        {
          "output_type": "execute_result",
          "data": {
            "text/plain": [
              "'HeLlOwOrLd'"
            ],
            "application/vnd.google.colaboratory.intrinsic+json": {
              "type": "string"
            }
          },
          "metadata": {},
          "execution_count": 107
        }
      ]
    },
    {
      "cell_type": "code",
      "source": [
        "x.isdigit()"
      ],
      "metadata": {
        "colab": {
          "base_uri": "https://localhost:8080/"
        },
        "id": "nvQfu37tIy8L",
        "outputId": "40b22188-8d31-4453-d4ce-1ac8bf990673"
      },
      "execution_count": null,
      "outputs": [
        {
          "output_type": "execute_result",
          "data": {
            "text/plain": [
              "False"
            ]
          },
          "metadata": {},
          "execution_count": 96
        }
      ]
    },
    {
      "cell_type": "code",
      "source": [
        "x.swapcase()"
      ],
      "metadata": {
        "colab": {
          "base_uri": "https://localhost:8080/",
          "height": 35
        },
        "id": "fch2x8SHJW7S",
        "outputId": "f0d7047c-5610-4b7e-b7f7-9740c88d603e"
      },
      "execution_count": null,
      "outputs": [
        {
          "output_type": "execute_result",
          "data": {
            "text/plain": [
              "'HeLlO'"
            ],
            "application/vnd.google.colaboratory.intrinsic+json": {
              "type": "string"
            }
          },
          "metadata": {},
          "execution_count": 97
        }
      ]
    },
    {
      "cell_type": "code",
      "source": [
        "ch1 = 'c'\n",
        "ch2 = 'char'"
      ],
      "metadata": {
        "id": "Wisa0DhPJx7Q"
      },
      "execution_count": null,
      "outputs": []
    },
    {
      "cell_type": "code",
      "source": [
        "type(ch2)"
      ],
      "metadata": {
        "colab": {
          "base_uri": "https://localhost:8080/"
        },
        "id": "sVawpK9rJ4du",
        "outputId": "e3a2a907-fee6-4278-9e84-0ef1e51bb582"
      },
      "execution_count": null,
      "outputs": [
        {
          "output_type": "execute_result",
          "data": {
            "text/plain": [
              "str"
            ]
          },
          "metadata": {},
          "execution_count": 104
        }
      ]
    },
    {
      "cell_type": "code",
      "source": [
        "print('Original = ',x,'Swapped = ', x.swapcase())"
      ],
      "metadata": {
        "colab": {
          "base_uri": "https://localhost:8080/"
        },
        "id": "HysvrxbwJgen",
        "outputId": "487952b3-f830-4a67-e2c3-65163d420fc1"
      },
      "execution_count": null,
      "outputs": [
        {
          "output_type": "stream",
          "name": "stdout",
          "text": [
            "Original =  hElLoWoRlDoFPyThoN Swapped =  HeLlOwOrLdOfpYtHOn\n"
          ]
        }
      ]
    },
    {
      "cell_type": "code",
      "source": [
        "print('Original = {}, Swapped = {} '.format(x, x.swapcase()))"
      ],
      "metadata": {
        "colab": {
          "base_uri": "https://localhost:8080/"
        },
        "id": "2jjz0RLQKk2i",
        "outputId": "521eb091-6141-40d9-9d64-4cd5bb66b789"
      },
      "execution_count": null,
      "outputs": [
        {
          "output_type": "stream",
          "name": "stdout",
          "text": [
            "Original = hElLoWoRlDoFPyThoN, Swapped = HeLlOwOrLdOfpYtHOn \n"
          ]
        }
      ]
    },
    {
      "cell_type": "code",
      "metadata": {
        "id": "PToq0omNflP2",
        "colab": {
          "base_uri": "https://localhost:8080/",
          "height": 35
        },
        "outputId": "cc52fc43-9454-4749-8b0e-5bd545c8f9ea"
      },
      "source": [
        "\"This is a number {}, this is another number {}, another one {}!\".format(10, 20, 30)"
      ],
      "execution_count": null,
      "outputs": [
        {
          "output_type": "execute_result",
          "data": {
            "text/plain": [
              "'This is a number 10, this is another number 20, another one 30!'"
            ],
            "application/vnd.google.colaboratory.intrinsic+json": {
              "type": "string"
            }
          },
          "metadata": {},
          "execution_count": 113
        }
      ]
    },
    {
      "cell_type": "markdown",
      "metadata": {
        "id": "WgYzAHHSf00K"
      },
      "source": [
        "You can specify how number is formatted"
      ]
    },
    {
      "cell_type": "code",
      "metadata": {
        "id": "zGGlXdZQuKnG",
        "colab": {
          "base_uri": "https://localhost:8080/",
          "height": 35
        },
        "outputId": "5f8b9ee8-b32d-45d3-ed51-20fd6d6e5fff"
      },
      "source": [
        "\"This is pi {:0.2f}!\".format(3.1415)"
      ],
      "execution_count": null,
      "outputs": [
        {
          "output_type": "execute_result",
          "data": {
            "application/vnd.google.colaboratory.intrinsic+json": {
              "type": "string"
            },
            "text/plain": [
              "'This is pi 3.14!'"
            ]
          },
          "metadata": {
            "tags": []
          },
          "execution_count": 54
        }
      ]
    },
    {
      "cell_type": "markdown",
      "metadata": {
        "id": "e2UqKCEDf4n9"
      },
      "source": [
        "Format strings look like this"
      ]
    },
    {
      "cell_type": "code",
      "metadata": {
        "id": "vao_Xk17f_BP",
        "colab": {
          "base_uri": "https://localhost:8080/",
          "height": 35
        },
        "outputId": "f7a83788-b718-4b43-c8a5-20381b697c20"
      },
      "source": [
        "f\"This is sum of 2 and 3: {2 + 3}\""
      ],
      "execution_count": null,
      "outputs": [
        {
          "output_type": "execute_result",
          "data": {
            "application/vnd.google.colaboratory.intrinsic+json": {
              "type": "string"
            },
            "text/plain": [
              "'This is sum of 2 and 3: 5'"
            ]
          },
          "metadata": {
            "tags": []
          },
          "execution_count": 55
        }
      ]
    },
    {
      "cell_type": "code",
      "source": [
        "number1 = 5\n",
        "number2 = 6.7\n",
        "\n",
        "result = number2 - number1\n",
        "\n",
        "print(number2 - number1)"
      ],
      "metadata": {
        "colab": {
          "base_uri": "https://localhost:8080/"
        },
        "id": "_ipa47LwM351",
        "outputId": "f7c08043-4b24-4f87-dd11-27ed4d04efad"
      },
      "execution_count": null,
      "outputs": [
        {
          "output_type": "stream",
          "name": "stdout",
          "text": [
            "1.7000000000000002\n"
          ]
        }
      ]
    },
    {
      "cell_type": "code",
      "source": [
        "number1 = 5\n",
        "number2 = 6.7\n",
        "string1 = 'hello'\n",
        "string2 = 'wOrld'\n",
        "\n",
        "string_result = string1 + string2.swapcase()\n",
        "number_result = number1 + number2\n",
        "\n",
        "print(string_result, number_result)"
      ],
      "metadata": {
        "id": "pzmdZHj1OY4r"
      },
      "execution_count": null,
      "outputs": []
    },
    {
      "cell_type": "code",
      "source": [
        "number1 = 251\n",
        "number2 = 16.734\n",
        "string1 = 'hellOOOO'\n",
        "string2 = 'uNivErsE'\n",
        "\n",
        "print(string1 + string2.swapcase(), '{:0.1f}'.format(number1 + number2))"
      ],
      "metadata": {
        "colab": {
          "base_uri": "https://localhost:8080/"
        },
        "id": "Ridvyme1LZcG",
        "outputId": "6bc9c1bf-3821-40b9-f7f9-e7f62c035eb4"
      },
      "execution_count": null,
      "outputs": [
        {
          "output_type": "stream",
          "name": "stdout",
          "text": [
            "hellOOOOUnIVeRSe 267.7\n"
          ]
        }
      ]
    },
    {
      "cell_type": "code",
      "source": [
        "string1 = 'hello'\n",
        "string2 = 'wOrld'\n",
        "\n",
        "\n",
        "\n",
        "print('helloWoRLD')"
      ],
      "metadata": {
        "id": "p9LZuyE1MeLB"
      },
      "execution_count": null,
      "outputs": []
    },
    {
      "cell_type": "markdown",
      "metadata": {
        "id": "yDBje-obvc9B"
      },
      "source": [
        "## Basic Data Structures\n",
        "\n",
        "Lists are designed to store a number of ordered values."
      ]
    },
    {
      "cell_type": "markdown",
      "metadata": {
        "id": "qZp9Hx-9hIRC"
      },
      "source": [
        "### List"
      ]
    },
    {
      "cell_type": "markdown",
      "metadata": {
        "id": "I0b66boVRtv9"
      },
      "source": [
        " <img src=\"https://cdn.programiz.com/sites/tutorial2program/files/python-list-index.png\" width=\"500\" height=\"200\">"
      ]
    },
    {
      "cell_type": "code",
      "metadata": {
        "id": "iEO10YjSgEiP",
        "colab": {
          "base_uri": "https://localhost:8080/"
        },
        "outputId": "5d8be45a-1c2e-4976-abf8-500b880a4a27"
      },
      "source": [
        "array = [1, 4, 2, 3, 8, 7, 6, 5]\n",
        "array"
      ],
      "execution_count": null,
      "outputs": [
        {
          "output_type": "execute_result",
          "data": {
            "text/plain": [
              "[1, 4, 2, 3, 8, 7, 6, 5]"
            ]
          },
          "metadata": {},
          "execution_count": 73
        }
      ]
    },
    {
      "cell_type": "code",
      "metadata": {
        "id": "kcZjuos1ypOq",
        "colab": {
          "base_uri": "https://localhost:8080/"
        },
        "outputId": "590179f0-f2ab-4d43-fa62-bae77a772206"
      },
      "source": [
        "type(array)"
      ],
      "execution_count": null,
      "outputs": [
        {
          "output_type": "execute_result",
          "data": {
            "text/plain": [
              "list"
            ]
          },
          "metadata": {},
          "execution_count": 74
        }
      ]
    },
    {
      "cell_type": "code",
      "source": [
        "len(array)"
      ],
      "metadata": {
        "colab": {
          "base_uri": "https://localhost:8080/"
        },
        "id": "XXL2ycJnQ4ka",
        "outputId": "3e187d2f-659f-4149-b495-e40fe99373fd"
      },
      "execution_count": null,
      "outputs": [
        {
          "output_type": "execute_result",
          "data": {
            "text/plain": [
              "8"
            ]
          },
          "metadata": {},
          "execution_count": 75
        }
      ]
    },
    {
      "cell_type": "code",
      "source": [
        "array[4]"
      ],
      "metadata": {
        "colab": {
          "base_uri": "https://localhost:8080/"
        },
        "id": "4o2qDNStQE66",
        "outputId": "1cfa55e7-16b3-4981-d2e5-6800d0c04814"
      },
      "execution_count": null,
      "outputs": [
        {
          "output_type": "execute_result",
          "data": {
            "text/plain": [
              "8"
            ]
          },
          "metadata": {},
          "execution_count": 129
        }
      ]
    },
    {
      "cell_type": "code",
      "source": [
        "type(array[4])"
      ],
      "metadata": {
        "colab": {
          "base_uri": "https://localhost:8080/"
        },
        "id": "f7xQgiDHqEgW",
        "outputId": "8b753a39-2329-44e8-f4e3-4d63ce21cdd3"
      },
      "execution_count": null,
      "outputs": [
        {
          "output_type": "execute_result",
          "data": {
            "text/plain": [
              "int"
            ]
          },
          "metadata": {},
          "execution_count": 76
        }
      ]
    },
    {
      "cell_type": "code",
      "source": [
        "array.count(1)"
      ],
      "metadata": {
        "colab": {
          "base_uri": "https://localhost:8080/"
        },
        "id": "2rhkAXXaRFxu",
        "outputId": "abee5054-3144-4b37-959a-ac39c4d6ba3c"
      },
      "execution_count": null,
      "outputs": [
        {
          "output_type": "execute_result",
          "data": {
            "text/plain": [
              "1"
            ]
          },
          "metadata": {},
          "execution_count": 131
        }
      ]
    },
    {
      "cell_type": "code",
      "metadata": {
        "colab": {
          "base_uri": "https://localhost:8080/"
        },
        "id": "VxcGSGxzelgK",
        "outputId": "fb59681b-7d09-4419-b120-4c94c9a393d9"
      },
      "source": [
        "dir(array)"
      ],
      "execution_count": null,
      "outputs": [
        {
          "output_type": "execute_result",
          "data": {
            "text/plain": [
              "['__add__',\n",
              " '__class__',\n",
              " '__contains__',\n",
              " '__delattr__',\n",
              " '__delitem__',\n",
              " '__dir__',\n",
              " '__doc__',\n",
              " '__eq__',\n",
              " '__format__',\n",
              " '__ge__',\n",
              " '__getattribute__',\n",
              " '__getitem__',\n",
              " '__gt__',\n",
              " '__hash__',\n",
              " '__iadd__',\n",
              " '__imul__',\n",
              " '__init__',\n",
              " '__init_subclass__',\n",
              " '__iter__',\n",
              " '__le__',\n",
              " '__len__',\n",
              " '__lt__',\n",
              " '__mul__',\n",
              " '__ne__',\n",
              " '__new__',\n",
              " '__reduce__',\n",
              " '__reduce_ex__',\n",
              " '__repr__',\n",
              " '__reversed__',\n",
              " '__rmul__',\n",
              " '__setattr__',\n",
              " '__setitem__',\n",
              " '__sizeof__',\n",
              " '__str__',\n",
              " '__subclasshook__',\n",
              " 'append',\n",
              " 'clear',\n",
              " 'copy',\n",
              " 'count',\n",
              " 'extend',\n",
              " 'index',\n",
              " 'insert',\n",
              " 'pop',\n",
              " 'remove',\n",
              " 'reverse',\n",
              " 'sort']"
            ]
          },
          "metadata": {
            "tags": []
          },
          "execution_count": 58
        }
      ]
    },
    {
      "cell_type": "code",
      "metadata": {
        "colab": {
          "base_uri": "https://localhost:8080/"
        },
        "id": "Vi3tNtDYgvVI",
        "outputId": "966c7051-266d-444c-8899-72ee529c6630"
      },
      "source": [
        "array.insert(6,0)\n",
        "array"
      ],
      "execution_count": null,
      "outputs": [
        {
          "output_type": "execute_result",
          "data": {
            "text/plain": [
              "[1, 4, 2, 3, 8, 7, 0, 6, 5]"
            ]
          },
          "metadata": {},
          "execution_count": 78
        }
      ]
    },
    {
      "cell_type": "code",
      "metadata": {
        "colab": {
          "base_uri": "https://localhost:8080/"
        },
        "id": "t3ZE4XsHexrP",
        "outputId": "e2754f3d-e566-4012-b6f3-58a287f7c535"
      },
      "source": [
        "array"
      ],
      "execution_count": null,
      "outputs": [
        {
          "output_type": "execute_result",
          "data": {
            "text/plain": [
              "[1, 4, 2, 3, 8, 7, 0, 6, 5]"
            ]
          },
          "metadata": {},
          "execution_count": 79
        }
      ]
    },
    {
      "cell_type": "code",
      "metadata": {
        "id": "uZj9OCcBey5p"
      },
      "source": [
        "array.reverse()"
      ],
      "execution_count": null,
      "outputs": []
    },
    {
      "cell_type": "code",
      "metadata": {
        "colab": {
          "base_uri": "https://localhost:8080/"
        },
        "id": "7x1qirkle2JU",
        "outputId": "1dfe6d47-e88b-46c1-e79d-e1bd4c2d6b59"
      },
      "source": [
        "array"
      ],
      "execution_count": null,
      "outputs": [
        {
          "output_type": "execute_result",
          "data": {
            "text/plain": [
              "[5, 6, 0, 7, 8, 3, 2, 4, 1]"
            ]
          },
          "metadata": {},
          "execution_count": 81
        }
      ]
    },
    {
      "cell_type": "markdown",
      "metadata": {
        "id": "OafZcfQLgIik"
      },
      "source": [
        "Addressing list by index"
      ]
    },
    {
      "cell_type": "code",
      "metadata": {
        "id": "vTBtlmzlgQUN",
        "colab": {
          "base_uri": "https://localhost:8080/"
        },
        "outputId": "dabf500b-41cf-4540-c11c-9069fbf87807"
      },
      "source": [
        "array"
      ],
      "execution_count": null,
      "outputs": [
        {
          "output_type": "execute_result",
          "data": {
            "text/plain": [
              "[5, 6, 0, 7, 8, 3, 2, 4, 1]"
            ]
          },
          "metadata": {},
          "execution_count": 82
        }
      ]
    },
    {
      "cell_type": "code",
      "source": [
        "array[1]"
      ],
      "metadata": {
        "colab": {
          "base_uri": "https://localhost:8080/"
        },
        "id": "1V2lMUoZWxXl",
        "outputId": "09008021-dee0-4f55-e771-685bfb250487"
      },
      "execution_count": null,
      "outputs": [
        {
          "output_type": "execute_result",
          "data": {
            "text/plain": [
              "6"
            ]
          },
          "metadata": {},
          "execution_count": 83
        }
      ]
    },
    {
      "cell_type": "code",
      "source": [
        "len(array)"
      ],
      "metadata": {
        "colab": {
          "base_uri": "https://localhost:8080/"
        },
        "id": "5V1Nm4WZW3mM",
        "outputId": "7e9c705b-33e7-41e9-ba01-e9c173ad4fda"
      },
      "execution_count": null,
      "outputs": [
        {
          "output_type": "execute_result",
          "data": {
            "text/plain": [
              "9"
            ]
          },
          "metadata": {},
          "execution_count": 84
        }
      ]
    },
    {
      "cell_type": "code",
      "source": [
        "array[-7]"
      ],
      "metadata": {
        "colab": {
          "base_uri": "https://localhost:8080/"
        },
        "id": "riMAfvqaW5Df",
        "outputId": "9ef47f37-7f33-4996-80a0-39129acec50c"
      },
      "execution_count": null,
      "outputs": [
        {
          "output_type": "execute_result",
          "data": {
            "text/plain": [
              "0"
            ]
          },
          "metadata": {},
          "execution_count": 85
        }
      ]
    },
    {
      "cell_type": "code",
      "metadata": {
        "id": "8CdaBiCJy6jP",
        "colab": {
          "base_uri": "https://localhost:8080/"
        },
        "outputId": "e990cfa3-e75c-4f47-a589-e99232669fdb"
      },
      "source": [
        "type(array[1])"
      ],
      "execution_count": null,
      "outputs": [
        {
          "output_type": "execute_result",
          "data": {
            "text/plain": [
              "int"
            ]
          },
          "metadata": {},
          "execution_count": 86
        }
      ]
    },
    {
      "cell_type": "markdown",
      "metadata": {
        "id": "Sc-anm1NgS25"
      },
      "source": [
        "Slice is a sub-sequence of a list"
      ]
    },
    {
      "cell_type": "code",
      "source": [
        "array"
      ],
      "metadata": {
        "colab": {
          "base_uri": "https://localhost:8080/"
        },
        "id": "HYb9xaJIrp7i",
        "outputId": "4d48f204-8446-4595-b198-12cb9c58e9b4"
      },
      "execution_count": null,
      "outputs": [
        {
          "output_type": "execute_result",
          "data": {
            "text/plain": [
              "[5, 6, 0, 7, 8, 3, 2, 4, 1]"
            ]
          },
          "metadata": {},
          "execution_count": 88
        }
      ]
    },
    {
      "cell_type": "code",
      "metadata": {
        "id": "tBZ0HPHLgeDc",
        "colab": {
          "base_uri": "https://localhost:8080/"
        },
        "outputId": "e7f08220-be1f-403c-a0f5-52a7ad43dfa4"
      },
      "source": [
        "array[1:5]"
      ],
      "execution_count": null,
      "outputs": [
        {
          "output_type": "execute_result",
          "data": {
            "text/plain": [
              "[6, 0, 7, 8]"
            ]
          },
          "metadata": {},
          "execution_count": 87
        }
      ]
    },
    {
      "cell_type": "code",
      "metadata": {
        "id": "150a3I-0zMfs",
        "colab": {
          "base_uri": "https://localhost:8080/"
        },
        "outputId": "e6f34f52-1f20-4454-af20-e14c5d6e3200"
      },
      "source": [
        "type(array[1:5])"
      ],
      "execution_count": null,
      "outputs": [
        {
          "output_type": "execute_result",
          "data": {
            "text/plain": [
              "list"
            ]
          },
          "metadata": {},
          "execution_count": 145
        }
      ]
    },
    {
      "cell_type": "code",
      "source": [
        "array[5]"
      ],
      "metadata": {
        "colab": {
          "base_uri": "https://localhost:8080/"
        },
        "id": "JsdybbxVsKyy",
        "outputId": "8b7c548f-60c1-4a15-a2e1-0323c3859285"
      },
      "execution_count": null,
      "outputs": [
        {
          "output_type": "execute_result",
          "data": {
            "text/plain": [
              "3"
            ]
          },
          "metadata": {},
          "execution_count": 91
        }
      ]
    },
    {
      "cell_type": "markdown",
      "metadata": {
        "id": "Dgp-CaJigiXM"
      },
      "source": [
        "End-less slices take either prefix"
      ]
    },
    {
      "cell_type": "code",
      "metadata": {
        "id": "0FU3YcmKgmWG",
        "colab": {
          "base_uri": "https://localhost:8080/"
        },
        "outputId": "94724d68-83e0-4f35-cf60-98aec2a2ea02"
      },
      "source": [
        "array[:5]"
      ],
      "execution_count": null,
      "outputs": [
        {
          "output_type": "execute_result",
          "data": {
            "text/plain": [
              "[5, 6, 0, 7, 8]"
            ]
          },
          "metadata": {},
          "execution_count": 89
        }
      ]
    },
    {
      "cell_type": "markdown",
      "metadata": {
        "id": "L3LzQHZugpJh"
      },
      "source": [
        "or suffix"
      ]
    },
    {
      "cell_type": "code",
      "metadata": {
        "id": "2ND4QRgggqbV",
        "colab": {
          "base_uri": "https://localhost:8080/"
        },
        "outputId": "4fe042e9-b3a2-4c80-9898-7bc00717eb72"
      },
      "source": [
        "array[5:]"
      ],
      "execution_count": null,
      "outputs": [
        {
          "output_type": "execute_result",
          "data": {
            "text/plain": [
              "[3, 2, 4, 1]"
            ]
          },
          "metadata": {},
          "execution_count": 90
        }
      ]
    },
    {
      "cell_type": "markdown",
      "metadata": {
        "id": "BJUoxAf5gugb"
      },
      "source": [
        "Third argument to the slice is the step size"
      ]
    },
    {
      "cell_type": "code",
      "metadata": {
        "id": "8AU5C2aZgxs-",
        "colab": {
          "base_uri": "https://localhost:8080/"
        },
        "outputId": "d2e2aa39-852d-4a76-ff77-c2aaf72661bb"
      },
      "source": [
        "array = [1, 4, 2, 3, 8, 7, 6, 5]\n",
        "array[2:7:2]"
      ],
      "execution_count": null,
      "outputs": [
        {
          "output_type": "execute_result",
          "data": {
            "text/plain": [
              "[2, 8, 6]"
            ]
          },
          "metadata": {},
          "execution_count": 155
        }
      ]
    },
    {
      "cell_type": "markdown",
      "metadata": {
        "id": "UFoYM9Vtg33H"
      },
      "source": [
        "Lists may contain values of different types"
      ]
    },
    {
      "cell_type": "code",
      "metadata": {
        "id": "sgHBH0SAvcYB",
        "colab": {
          "base_uri": "https://localhost:8080/"
        },
        "outputId": "9b75020c-ebb7-4056-fc27-3ad3c24335a7"
      },
      "source": [
        "len([1, 1e-8, \"Hello\", [9, 8]])"
      ],
      "execution_count": null,
      "outputs": [
        {
          "output_type": "execute_result",
          "data": {
            "text/plain": [
              "4"
            ]
          },
          "metadata": {},
          "execution_count": 92
        }
      ]
    },
    {
      "cell_type": "code",
      "metadata": {
        "id": "wo1HR_w50Enu",
        "colab": {
          "base_uri": "https://localhost:8080/"
        },
        "outputId": "9ab73e87-43ac-4e81-e4ff-d8e5409f1852"
      },
      "source": [
        "1e-2"
      ],
      "execution_count": null,
      "outputs": [
        {
          "output_type": "execute_result",
          "data": {
            "text/plain": [
              "0.01"
            ]
          },
          "metadata": {
            "tags": []
          },
          "execution_count": 74
        }
      ]
    },
    {
      "cell_type": "code",
      "source": [
        "array.insert(-3,'*')"
      ],
      "metadata": {
        "id": "kXuiWXNHtNW3"
      },
      "execution_count": null,
      "outputs": []
    },
    {
      "cell_type": "code",
      "metadata": {
        "colab": {
          "base_uri": "https://localhost:8080/"
        },
        "id": "2IpohA_6hJs4",
        "outputId": "fdf5b38b-df0b-4cac-aa1e-197a397a440a"
      },
      "source": [
        "array"
      ],
      "execution_count": null,
      "outputs": [
        {
          "output_type": "execute_result",
          "data": {
            "text/plain": [
              "[5, 6, 0, 7, 8, 3, '*', 2, 4, 1]"
            ]
          },
          "metadata": {},
          "execution_count": 95
        }
      ]
    },
    {
      "cell_type": "code",
      "metadata": {
        "colab": {
          "base_uri": "https://localhost:8080/"
        },
        "id": "DmI8b5vrhKzZ",
        "outputId": "ac615d75-953b-4530-ddb6-b14aa9e787ae"
      },
      "source": [
        "array.remove('*')\n",
        "array"
      ],
      "execution_count": null,
      "outputs": [
        {
          "output_type": "execute_result",
          "data": {
            "text/plain": [
              "[5, 6, 0, 7, 8, 3, 2, 4, 1]"
            ]
          },
          "metadata": {},
          "execution_count": 96
        }
      ]
    },
    {
      "cell_type": "markdown",
      "metadata": {
        "id": "DeT7wZa3Vmwm"
      },
      "source": [
        "#### 2D List - Nested List (or) List of list"
      ]
    },
    {
      "cell_type": "code",
      "metadata": {
        "id": "uAvqcaM9Vm5I",
        "colab": {
          "base_uri": "https://localhost:8080/"
        },
        "outputId": "d1a6bef3-3564-42f2-8d2f-d457f54061d7"
      },
      "source": [
        "a = [[1, 2, 3], [4, 5, 6]]\n",
        "a"
      ],
      "execution_count": null,
      "outputs": [
        {
          "output_type": "execute_result",
          "data": {
            "text/plain": [
              "[[1, 2, 3], [4, 5, 6]]"
            ]
          },
          "metadata": {
            "tags": []
          },
          "execution_count": 78
        }
      ]
    },
    {
      "cell_type": "code",
      "metadata": {
        "id": "lWMYsUUwVzZb",
        "colab": {
          "base_uri": "https://localhost:8080/"
        },
        "outputId": "f5954a05-6a7b-409a-884a-bbadf78a8b9b"
      },
      "source": [
        "print(a[0])\n",
        "print(a[1])"
      ],
      "execution_count": null,
      "outputs": [
        {
          "output_type": "stream",
          "text": [
            "[1, 2, 3]\n",
            "[4, 5, 6]\n"
          ],
          "name": "stdout"
        }
      ]
    },
    {
      "cell_type": "code",
      "metadata": {
        "id": "Iu7uS_IBV_vb",
        "colab": {
          "base_uri": "https://localhost:8080/"
        },
        "outputId": "48db237c-0dc7-4493-a939-a5a24fa18c1a"
      },
      "source": [
        "b = a[0]\n",
        "print(\"b = \", b)\n",
        "print(\"a[0][2] = \",a[0][2])"
      ],
      "execution_count": null,
      "outputs": [
        {
          "output_type": "stream",
          "text": [
            "b =  [1, 2, 3]\n",
            "a[0][2] =  3\n"
          ],
          "name": "stdout"
        }
      ]
    },
    {
      "cell_type": "code",
      "metadata": {
        "id": "myqzqhSdV_4T",
        "colab": {
          "base_uri": "https://localhost:8080/"
        },
        "outputId": "67f2a2c7-3f31-4fbe-b270-d7aa2cbdfc96"
      },
      "source": [
        "a[0][1] = 7\n",
        "print(\"a = \",a)\n",
        "print(\"b = \",b)"
      ],
      "execution_count": null,
      "outputs": [
        {
          "output_type": "stream",
          "text": [
            "a =  [[1, 7, 3], [4, 5, 6]]\n",
            "b =  [1, 7, 3]\n"
          ],
          "name": "stdout"
        }
      ]
    },
    {
      "cell_type": "code",
      "metadata": {
        "id": "6bVt0-CbV__u",
        "colab": {
          "base_uri": "https://localhost:8080/"
        },
        "outputId": "6b12fe81-f274-4185-b261-b71120bc18ff"
      },
      "source": [
        "b[2] = 9\n",
        "print(\"a[0] =\",a[0])\n",
        "print(\"b = \",b)"
      ],
      "execution_count": null,
      "outputs": [
        {
          "output_type": "stream",
          "text": [
            "a[0] = [1, 7, 9]\n",
            "b =  [1, 7, 9]\n"
          ],
          "name": "stdout"
        }
      ]
    },
    {
      "cell_type": "markdown",
      "metadata": {
        "id": "TS28-FRgWquT"
      },
      "source": [
        "Iterating through the 2D List"
      ]
    },
    {
      "cell_type": "code",
      "metadata": {
        "id": "WKUDvq6WWAFA",
        "colab": {
          "base_uri": "https://localhost:8080/"
        },
        "outputId": "5ac3c1fa-7f65-42d1-abde-c8fdcbd0c427"
      },
      "source": [
        "a = [[1, 2, 3, 4], [5, 6], [7, 8, 9]]\n",
        "for i in range(len(a)):\n",
        "    for j in range(len(a[i])):\n",
        "        print(a[i][j], end=' ')\n",
        "    print()"
      ],
      "execution_count": null,
      "outputs": [
        {
          "output_type": "stream",
          "text": [
            "1 2 3 4 \n",
            "5 6 \n",
            "7 8 9 \n"
          ],
          "name": "stdout"
        }
      ]
    },
    {
      "cell_type": "markdown",
      "metadata": {
        "id": "SPP1Cyajwpfa"
      },
      "source": [
        "### Maps\n",
        "Maps (dictionaries) can store relations between pairs of values"
      ]
    },
    {
      "cell_type": "markdown",
      "metadata": {
        "id": "45E0-DV_SRLQ"
      },
      "source": [
        "<img src='https://www.learnbyexample.org/wp-content/uploads/python/Dictionary-Key-Value-Pairs-Illustration.png'>"
      ]
    },
    {
      "cell_type": "code",
      "source": [
        "{1:1, 2:4, 3:9, 4:16, 5:25}"
      ],
      "metadata": {
        "colab": {
          "base_uri": "https://localhost:8080/"
        },
        "id": "aWAqwcIHuzO_",
        "outputId": "ee763fd1-c45c-46b3-c16d-c361cc1a0fc1"
      },
      "execution_count": null,
      "outputs": [
        {
          "output_type": "execute_result",
          "data": {
            "text/plain": [
              "{1: 1, 2: 4, 3: 9, 4: 16, 5: 25}"
            ]
          },
          "metadata": {},
          "execution_count": 97
        }
      ]
    },
    {
      "cell_type": "code",
      "metadata": {
        "id": "E9B-8IZ2hVJo",
        "colab": {
          "base_uri": "https://localhost:8080/"
        },
        "outputId": "09a10d09-4da8-447b-c0a1-4ee3ca314dd8"
      },
      "source": [
        "m = {\"height\": 100.0,\n",
        "     \"width\": 20.,\n",
        "     \"depth\": 10.}\n",
        "m"
      ],
      "execution_count": null,
      "outputs": [
        {
          "output_type": "execute_result",
          "data": {
            "text/plain": [
              "{'height': 100.0, 'width': 20.0, 'depth': 10.0}"
            ]
          },
          "metadata": {},
          "execution_count": 98
        }
      ]
    },
    {
      "cell_type": "code",
      "source": [
        "type(m)"
      ],
      "metadata": {
        "colab": {
          "base_uri": "https://localhost:8080/"
        },
        "id": "tavXMU1lYllD",
        "outputId": "05863173-f8ae-45c5-d9f1-021dc2cc2374"
      },
      "execution_count": null,
      "outputs": [
        {
          "output_type": "execute_result",
          "data": {
            "text/plain": [
              "dict"
            ]
          },
          "metadata": {},
          "execution_count": 99
        }
      ]
    },
    {
      "cell_type": "code",
      "metadata": {
        "id": "gj2BsmKn0s42",
        "colab": {
          "base_uri": "https://localhost:8080/"
        },
        "outputId": "fcc9c1e9-9e3e-4d80-d577-cb727e957e3f"
      },
      "source": [
        "dict(height=100.,weight=50., depth=10.)"
      ],
      "execution_count": null,
      "outputs": [
        {
          "output_type": "execute_result",
          "data": {
            "text/plain": [
              "{'height': 100.0, 'weight': 50.0, 'depth': 10.0}"
            ]
          },
          "metadata": {},
          "execution_count": 168
        }
      ]
    },
    {
      "cell_type": "code",
      "source": [
        "cookies = {\n",
        "    'location' : 'QC/Canada',\n",
        "    'language' : 'EN',\n",
        "    'timezone' : 'EDT',\n",
        "    'ip_address' : '168.153.224.444'\n",
        "}"
      ],
      "metadata": {
        "id": "-xTw4mshY4cy"
      },
      "execution_count": null,
      "outputs": []
    },
    {
      "cell_type": "code",
      "source": [
        "cookies"
      ],
      "metadata": {
        "colab": {
          "base_uri": "https://localhost:8080/"
        },
        "id": "C4aDwEXJZJWv",
        "outputId": "12b2cf8b-30d6-4597-d527-5073180ab34d"
      },
      "execution_count": null,
      "outputs": [
        {
          "output_type": "execute_result",
          "data": {
            "text/plain": [
              "{'location': 'QC/Canada',\n",
              " 'language': 'EN',\n",
              " 'timezone': 'EDT',\n",
              " 'ip_address': '168.153.224.444'}"
            ]
          },
          "metadata": {},
          "execution_count": 101
        }
      ]
    },
    {
      "cell_type": "markdown",
      "metadata": {
        "id": "_sJCy0_chf3h"
      },
      "source": [
        "Retrieving value by key"
      ]
    },
    {
      "cell_type": "code",
      "metadata": {
        "id": "RyqblTcihk4i",
        "colab": {
          "base_uri": "https://localhost:8080/"
        },
        "outputId": "d04d1d0c-0a21-4712-f348-82d7a655c3b5"
      },
      "source": [
        "m[\"width\"]"
      ],
      "execution_count": null,
      "outputs": [
        {
          "output_type": "execute_result",
          "data": {
            "text/plain": [
              "20.0"
            ]
          },
          "metadata": {},
          "execution_count": 172
        }
      ]
    },
    {
      "cell_type": "code",
      "source": [
        "m['height']"
      ],
      "metadata": {
        "colab": {
          "base_uri": "https://localhost:8080/"
        },
        "id": "Z150vfQiZa89",
        "outputId": "0a1bf744-2bca-486c-ee56-5634c824c99a"
      },
      "execution_count": null,
      "outputs": [
        {
          "output_type": "execute_result",
          "data": {
            "text/plain": [
              "100.0"
            ]
          },
          "metadata": {},
          "execution_count": 174
        }
      ]
    },
    {
      "cell_type": "code",
      "source": [
        "print('Volume = ', m['height'] * m['width'] * m['depth'])"
      ],
      "metadata": {
        "colab": {
          "base_uri": "https://localhost:8080/"
        },
        "id": "RvXQssPyZhYB",
        "outputId": "b68e9398-3fda-43a2-c6a0-e59b56037447"
      },
      "execution_count": null,
      "outputs": [
        {
          "output_type": "stream",
          "name": "stdout",
          "text": [
            "Volume =  20000.0\n"
          ]
        }
      ]
    },
    {
      "cell_type": "markdown",
      "metadata": {
        "id": "GaRxKo1qhmca"
      },
      "source": [
        "Checking that a map contains a key"
      ]
    },
    {
      "cell_type": "code",
      "metadata": {
        "id": "WqOa9VOZh1OA",
        "colab": {
          "base_uri": "https://localhost:8080/"
        },
        "outputId": "a63457ba-7382-4cda-ccfa-fae386a90a64"
      },
      "source": [
        "\"width242\" in m"
      ],
      "execution_count": null,
      "outputs": [
        {
          "output_type": "execute_result",
          "data": {
            "text/plain": [
              "False"
            ]
          },
          "metadata": {},
          "execution_count": 104
        }
      ]
    },
    {
      "cell_type": "code",
      "source": [
        "m[\"widht\"]"
      ],
      "metadata": {
        "colab": {
          "base_uri": "https://localhost:8080/",
          "height": 168
        },
        "id": "ZN_x6SR1voOp",
        "outputId": "147f1846-56d3-4a72-84de-35dfe3393d1a"
      },
      "execution_count": null,
      "outputs": [
        {
          "output_type": "error",
          "ename": "KeyError",
          "evalue": "ignored",
          "traceback": [
            "\u001b[0;31m---------------------------------------------------------------------------\u001b[0m",
            "\u001b[0;31mKeyError\u001b[0m                                  Traceback (most recent call last)",
            "\u001b[0;32m<ipython-input-105-0821686ec79c>\u001b[0m in \u001b[0;36m<module>\u001b[0;34m\u001b[0m\n\u001b[0;32m----> 1\u001b[0;31m \u001b[0mm\u001b[0m\u001b[0;34m[\u001b[0m\u001b[0;34m\"widht\"\u001b[0m\u001b[0;34m]\u001b[0m\u001b[0;34m\u001b[0m\u001b[0;34m\u001b[0m\u001b[0m\n\u001b[0m",
            "\u001b[0;31mKeyError\u001b[0m: 'widht'"
          ]
        }
      ]
    },
    {
      "cell_type": "markdown",
      "metadata": {
        "id": "s5Zeyapsh6Go"
      },
      "source": [
        "Add a new key-value pair"
      ]
    },
    {
      "cell_type": "code",
      "metadata": {
        "id": "O7iSJmrah-C1"
      },
      "source": [
        "m[\"name\"] = \"cuboid\""
      ],
      "execution_count": null,
      "outputs": []
    },
    {
      "cell_type": "code",
      "metadata": {
        "id": "OznFu8XX1RpH",
        "colab": {
          "base_uri": "https://localhost:8080/"
        },
        "outputId": "78389d42-51b5-4248-a0f0-2dd7f9481630"
      },
      "source": [
        "m"
      ],
      "execution_count": null,
      "outputs": [
        {
          "output_type": "execute_result",
          "data": {
            "text/plain": [
              "{'height': 100.0, 'width': 20.0, 'depth': 10.0, 'name': 'cuboid'}"
            ]
          },
          "metadata": {},
          "execution_count": 107
        }
      ]
    },
    {
      "cell_type": "markdown",
      "metadata": {
        "id": "ILJJI_GFiBOy"
      },
      "source": [
        "Or change existing value"
      ]
    },
    {
      "cell_type": "code",
      "metadata": {
        "id": "PMGZPVR3iDcN",
        "colab": {
          "base_uri": "https://localhost:8080/"
        },
        "outputId": "7ac6d4b2-c3fe-4ae4-c4e8-e8a8164b2103"
      },
      "source": [
        "m[\"name\"] = \"RECTANGLE\"\n",
        "m"
      ],
      "execution_count": null,
      "outputs": [
        {
          "output_type": "execute_result",
          "data": {
            "text/plain": [
              "{'height': 100.0, 'width': 20.0, 'depth': 10.0, 'name': 'RECTANGLE'}"
            ]
          },
          "metadata": {},
          "execution_count": 108
        }
      ]
    },
    {
      "cell_type": "markdown",
      "metadata": {
        "id": "0R5Wm0sFiFlp"
      },
      "source": [
        "Remove key/value"
      ]
    },
    {
      "cell_type": "code",
      "metadata": {
        "id": "-cMBVYYEiHNT",
        "colab": {
          "base_uri": "https://localhost:8080/",
          "height": 35
        },
        "outputId": "d50740e2-bbb0-415f-dd7c-ac84d8d9aa11"
      },
      "source": [
        "m.pop(\"name\")"
      ],
      "execution_count": null,
      "outputs": [
        {
          "output_type": "execute_result",
          "data": {
            "text/plain": [
              "'RECTANGLE'"
            ],
            "application/vnd.google.colaboratory.intrinsic+json": {
              "type": "string"
            }
          },
          "metadata": {},
          "execution_count": 109
        }
      ]
    },
    {
      "cell_type": "code",
      "metadata": {
        "id": "LehA_qdI1dth",
        "colab": {
          "base_uri": "https://localhost:8080/"
        },
        "outputId": "c504ac61-cc9d-403d-fa52-0497de0623a3"
      },
      "source": [
        "m.keys()"
      ],
      "execution_count": null,
      "outputs": [
        {
          "output_type": "execute_result",
          "data": {
            "text/plain": [
              "dict_keys(['height', 'width', 'depth'])"
            ]
          },
          "metadata": {},
          "execution_count": 110
        }
      ]
    },
    {
      "cell_type": "code",
      "metadata": {
        "id": "bhEWTQ1nIN3w",
        "colab": {
          "base_uri": "https://localhost:8080/"
        },
        "outputId": "a654e023-92dd-4de2-84c7-ac4949a295fd"
      },
      "source": [
        "m"
      ],
      "execution_count": null,
      "outputs": [
        {
          "output_type": "execute_result",
          "data": {
            "text/plain": [
              "{'height': 100.0, 'width': 20.0, 'depth': 10.0}"
            ]
          },
          "metadata": {},
          "execution_count": 111
        }
      ]
    },
    {
      "cell_type": "markdown",
      "metadata": {
        "id": "kdYzR2X0zWNE"
      },
      "source": [
        "### Tuples\n",
        "Tuples are similar to lists but are immutable -- they cannot be altered."
      ]
    },
    {
      "cell_type": "code",
      "metadata": {
        "id": "yJSXyvBqzBnc"
      },
      "source": [
        "my_array = [1, 2, 3]\n",
        "my_tuple = (1, 2, 3)\n",
        "\n",
        "# This is OK\n",
        "my_array[0] = 100\n",
        "\n",
        "# This will raise an exception\n",
        "my_tuple[0] = 100"
      ],
      "execution_count": null,
      "outputs": []
    },
    {
      "cell_type": "code",
      "metadata": {
        "id": "9bOk1MZa1uP3"
      },
      "source": [
        "my_tuple[0] == 100"
      ],
      "execution_count": null,
      "outputs": []
    },
    {
      "cell_type": "code",
      "metadata": {
        "id": "wmRzWy-rIpyG"
      },
      "source": [
        "a = (1, 2)\n",
        "b = (3, 4)\n",
        "(1, 2) + (3, 4)"
      ],
      "execution_count": null,
      "outputs": []
    },
    {
      "cell_type": "markdown",
      "metadata": {
        "id": "IBeeqq6u1EP9"
      },
      "source": [
        "### Sets\n",
        "Sets are unordered collections that support fast search, insertion, deletion and union."
      ]
    },
    {
      "cell_type": "code",
      "metadata": {
        "id": "I1aeG-bFzuL1",
        "colab": {
          "base_uri": "https://localhost:8080/"
        },
        "outputId": "8fe0b49b-a69b-45d2-a87a-c35c2de4ba00"
      },
      "source": [
        "animals = {\"cat\", \"dog\", \"elephant\"}\n",
        "animals"
      ],
      "execution_count": null,
      "outputs": [
        {
          "output_type": "execute_result",
          "data": {
            "text/plain": [
              "{'cat', 'dog', 'elephant'}"
            ]
          },
          "metadata": {
            "tags": []
          },
          "execution_count": 84
        }
      ]
    },
    {
      "cell_type": "markdown",
      "metadata": {
        "id": "IKTFuoVCiU4U"
      },
      "source": [
        "Check that element is in set"
      ]
    },
    {
      "cell_type": "code",
      "metadata": {
        "id": "M2SRdoJ9iZkt",
        "colab": {
          "base_uri": "https://localhost:8080/"
        },
        "outputId": "dd431bcf-9318-40fe-8238-ad1d8fb0dbca"
      },
      "source": [
        "\"cat\" in animals"
      ],
      "execution_count": null,
      "outputs": [
        {
          "output_type": "execute_result",
          "data": {
            "text/plain": [
              "True"
            ]
          },
          "metadata": {
            "tags": []
          },
          "execution_count": 85
        }
      ]
    },
    {
      "cell_type": "markdown",
      "metadata": {
        "id": "IMPig3GCidQP"
      },
      "source": [
        "Perform set operations: union, intersection, etc"
      ]
    },
    {
      "cell_type": "code",
      "metadata": {
        "id": "zX06oDPPihJY",
        "colab": {
          "base_uri": "https://localhost:8080/"
        },
        "outputId": "55419934-6e08-4549-c771-ed5a8d40e7ae"
      },
      "source": [
        "animals.union({\"zebra\", \"llama\"})"
      ],
      "execution_count": null,
      "outputs": [
        {
          "output_type": "execute_result",
          "data": {
            "text/plain": [
              "{'cat', 'dog', 'elephant', 'llama', 'zebra'}"
            ]
          },
          "metadata": {
            "tags": []
          },
          "execution_count": 86
        }
      ]
    },
    {
      "cell_type": "code",
      "metadata": {
        "colab": {
          "base_uri": "https://localhost:8080/"
        },
        "id": "vwpgfty3i6XD",
        "outputId": "669e0b34-2aed-4137-da6c-7e4bc939575d"
      },
      "source": [
        "animals.union({1})"
      ],
      "execution_count": null,
      "outputs": [
        {
          "output_type": "execute_result",
          "data": {
            "text/plain": [
              "{1, 'cat', 'dog', 'elephant'}"
            ]
          },
          "metadata": {
            "tags": []
          },
          "execution_count": 87
        }
      ]
    },
    {
      "cell_type": "code",
      "metadata": {
        "colab": {
          "base_uri": "https://localhost:8080/"
        },
        "id": "BnBBF2GZjrHN",
        "outputId": "6fa5316c-0a50-4ebd-ccc3-6a6eb6debd48"
      },
      "source": [
        "type(animals)"
      ],
      "execution_count": null,
      "outputs": [
        {
          "output_type": "execute_result",
          "data": {
            "text/plain": [
              "set"
            ]
          },
          "metadata": {
            "tags": []
          },
          "execution_count": 93
        }
      ]
    },
    {
      "cell_type": "markdown",
      "metadata": {
        "id": "do27WDEZ1rKc"
      },
      "source": [
        "## Control flow"
      ]
    },
    {
      "cell_type": "markdown",
      "metadata": {
        "id": "ZRLfl1pTkw8w"
      },
      "source": [
        "Branching"
      ]
    },
    {
      "cell_type": "code",
      "metadata": {
        "id": "6RNIP5pmk0a9",
        "colab": {
          "base_uri": "https://localhost:8080/"
        },
        "outputId": "4aac716c-aca0-4fee-d8f3-3fd0bd818315"
      },
      "source": [
        "a = int(input())\n",
        "if a > 6:\n",
        "  print(\"a is greater than 6\")\n",
        "elif a < 3:\n",
        "  print(\"a is less than 3\")\n",
        "else:\n",
        "  print(\"a is between 3 and 6\")"
      ],
      "execution_count": null,
      "outputs": [
        {
          "output_type": "stream",
          "name": "stdout",
          "text": [
            "100\n",
            "a is greater than 6\n"
          ]
        }
      ]
    },
    {
      "cell_type": "markdown",
      "metadata": {
        "id": "iF11czrvk9Ve"
      },
      "source": [
        "Loops"
      ]
    },
    {
      "cell_type": "code",
      "metadata": {
        "colab": {
          "base_uri": "https://localhost:8080/"
        },
        "id": "Vw83LFkPjxzP",
        "outputId": "6dcaa81b-38c8-4c22-c7db-d9b002f1329b"
      },
      "source": [
        "for i in range(5): # 0,1,2,3,4  = 0:5\n",
        "    print(i)"
      ],
      "execution_count": null,
      "outputs": [
        {
          "output_type": "stream",
          "name": "stdout",
          "text": [
            "0\n",
            "1\n",
            "2\n",
            "3\n",
            "4\n"
          ]
        }
      ]
    },
    {
      "cell_type": "code",
      "metadata": {
        "id": "0FKPTPIklBuR",
        "colab": {
          "base_uri": "https://localhost:8080/"
        },
        "outputId": "9b03dd63-c2a7-44e8-dc06-6aad712d475b"
      },
      "source": [
        "for i, j in enumerate([\"cat\", \"dog\"]):\n",
        "    print(i, j)"
      ],
      "execution_count": null,
      "outputs": [
        {
          "output_type": "stream",
          "text": [
            "0 cat\n",
            "1 dog\n"
          ],
          "name": "stdout"
        }
      ]
    },
    {
      "cell_type": "code",
      "source": [
        "for i, j, k in zip([1,2,3,4,5],['a','b','c'],['A','B','C','D']):\n",
        "  print(i,j,k)"
      ],
      "metadata": {
        "colab": {
          "base_uri": "https://localhost:8080/"
        },
        "id": "svVxZ-_Ubauv",
        "outputId": "97ec87a0-482a-45a4-c4bc-6aedb82ac840"
      },
      "execution_count": null,
      "outputs": [
        {
          "output_type": "stream",
          "name": "stdout",
          "text": [
            "1 a A\n",
            "2 b B\n",
            "3 c C\n"
          ]
        }
      ]
    },
    {
      "cell_type": "code",
      "source": [
        "max = 20"
      ],
      "metadata": {
        "id": "9kvAvWJXxkFL"
      },
      "execution_count": null,
      "outputs": []
    },
    {
      "cell_type": "code",
      "source": [
        "for i in range(1,max,2):\n",
        "  print(i**2)"
      ],
      "metadata": {
        "colab": {
          "base_uri": "https://localhost:8080/"
        },
        "id": "kCEFGLaqxnXj",
        "outputId": "8d2b5126-8e04-4f78-efe6-139a9e692ab2"
      },
      "execution_count": null,
      "outputs": [
        {
          "output_type": "stream",
          "name": "stdout",
          "text": [
            "1\n",
            "9\n",
            "25\n",
            "49\n",
            "81\n",
            "121\n",
            "169\n",
            "225\n",
            "289\n",
            "361\n"
          ]
        }
      ]
    },
    {
      "cell_type": "code",
      "source": [],
      "metadata": {
        "id": "_nAygeosxrjr"
      },
      "execution_count": null,
      "outputs": []
    },
    {
      "cell_type": "code",
      "metadata": {
        "colab": {
          "base_uri": "https://localhost:8080/"
        },
        "id": "DjVKTHItkbP0",
        "outputId": "bcb8d89d-c682-4f14-9af5-69e9007fe9c3"
      },
      "source": [
        "for i in array:\n",
        "  print(i)"
      ],
      "execution_count": null,
      "outputs": [
        {
          "output_type": "stream",
          "text": [
            "1\n",
            "4\n",
            "2\n",
            "3\n",
            "8\n",
            "7\n",
            "6\n",
            "5\n"
          ],
          "name": "stdout"
        }
      ]
    },
    {
      "cell_type": "markdown",
      "metadata": {
        "id": "WC3CQ6LOlE2K"
      },
      "source": [
        "Useful functions for looping:\n",
        "- `range`\n",
        "- `enumerate`\n",
        "- `zip`"
      ]
    },
    {
      "cell_type": "markdown",
      "metadata": {
        "id": "DEXi6o3KlSTw"
      },
      "source": [
        "Iterating a dictionary"
      ]
    },
    {
      "cell_type": "code",
      "metadata": {
        "id": "l4j34y5klVQD",
        "colab": {
          "base_uri": "https://localhost:8080/"
        },
        "outputId": "8fb94bf3-88f9-4eea-916c-1dfb4c8900cc"
      },
      "source": [
        "for k, v in m.items():\n",
        "    print(k, v)\n",
        "    # if k == \"width\":\n",
        "    #     continue\n",
        "    # # long processing\n",
        "    # print(\"again\", v)"
      ],
      "execution_count": null,
      "outputs": [
        {
          "output_type": "stream",
          "name": "stdout",
          "text": [
            "height 100.0\n",
            "width 20.0\n",
            "depth 10.0\n"
          ]
        }
      ]
    },
    {
      "cell_type": "markdown",
      "metadata": {
        "id": "_82guvm2lb4Y"
      },
      "source": [
        "While loop"
      ]
    },
    {
      "cell_type": "code",
      "metadata": {
        "id": "_xAlRHDNlcsV",
        "colab": {
          "base_uri": "https://localhost:8080/"
        },
        "outputId": "2f41f8fa-4d95-4601-8333-6603eafd0e71"
      },
      "source": [
        "stop = False\n",
        "i = 10\n",
        "while not stop:\n",
        "    i += 1\n",
        "    if i % 10 == 0:\n",
        "        stop = True\n",
        "\n",
        "print(i)"
      ],
      "execution_count": null,
      "outputs": [
        {
          "output_type": "stream",
          "text": [
            "20\n"
          ],
          "name": "stdout"
        }
      ]
    },
    {
      "cell_type": "markdown",
      "metadata": {
        "id": "Hr1sBDl6NBCt"
      },
      "source": [
        "## Functions"
      ]
    },
    {
      "cell_type": "markdown",
      "metadata": {
        "id": "GnLRc_CKxFsf"
      },
      "source": [
        "Defining functions"
      ]
    },
    {
      "cell_type": "code",
      "metadata": {
        "id": "TZJF3UL2M7fg"
      },
      "source": [
        "#Function Definition\n",
        "def is_odd(a):\n",
        "  return a % 2 == 1"
      ],
      "execution_count": null,
      "outputs": []
    },
    {
      "cell_type": "code",
      "source": [
        "#Function Call\n",
        "\n",
        "is_odd(39)"
      ],
      "metadata": {
        "colab": {
          "base_uri": "https://localhost:8080/"
        },
        "id": "x2PdqwlmdHWY",
        "outputId": "fe4f2ade-b13a-4369-d235-a9abc41ba486"
      },
      "execution_count": null,
      "outputs": [
        {
          "output_type": "execute_result",
          "data": {
            "text/plain": [
              "True"
            ]
          },
          "metadata": {},
          "execution_count": 198
        }
      ]
    },
    {
      "cell_type": "markdown",
      "metadata": {
        "id": "lPhb-mFxxNNp"
      },
      "source": [
        "Functions can be defined inside functions"
      ]
    },
    {
      "cell_type": "code",
      "metadata": {
        "id": "VYbAIDuBxRne"
      },
      "source": [
        "def is_odd(a):\n",
        "\n",
        "    def is_divisible(number, base):\n",
        "        return number % base == 0\n",
        "\n",
        "    return is_divisible(a, 2)\n",
        "\n",
        "is_odd(2)\n",
        "is_divisible(6, 5)"
      ],
      "execution_count": null,
      "outputs": []
    },
    {
      "cell_type": "markdown",
      "metadata": {
        "id": "Hoh9vryhxckA"
      },
      "source": [
        "You can provide default arguments."
      ]
    },
    {
      "cell_type": "code",
      "metadata": {
        "id": "SbjDzfrVfmF6"
      },
      "source": [
        "def add_or_subtract(first, second, operation=\"sum\"):\n",
        "    if operation == \"sum\":\n",
        "        return first + second\n",
        "    elif operation == \"sub\":\n",
        "        return first - second\n",
        "    else:\n",
        "        print(\"Operation not permitted\")\n",
        "\n",
        "add_or_subtract(first=3, second=4, operation=\"sum\")"
      ],
      "execution_count": null,
      "outputs": []
    },
    {
      "cell_type": "markdown",
      "metadata": {
        "id": "1Lp6YB6fxqpP"
      },
      "source": [
        "Varargs: variable size arguments"
      ]
    },
    {
      "cell_type": "code",
      "metadata": {
        "id": "181garp6xsKA"
      },
      "source": [
        "def sum_all(*args):\n",
        "    # args is a list of arguments\n",
        "    result = 0\n",
        "    for arg in args:\n",
        "        result += arg\n",
        "    return result\n",
        "\n",
        "# Call vararg function\n",
        "print(\"Sum of all integers up to 10 =\", sum_all(1, 2, 3, 4, 5, 6, 7, 8, 9))"
      ],
      "execution_count": null,
      "outputs": []
    },
    {
      "cell_type": "markdown",
      "metadata": {
        "id": "dmKKnwyox7Ai"
      },
      "source": [
        "Keyword arguments"
      ]
    },
    {
      "cell_type": "code",
      "metadata": {
        "id": "WJPliTlnx92u"
      },
      "source": [
        "def print_pairs(**kwargs):\n",
        "    # kwargs is a map\n",
        "    for k, v in kwargs.items():\n",
        "        print(k, v)\n",
        "\n",
        "print_pairs(a=1, b=2)"
      ],
      "execution_count": null,
      "outputs": []
    },
    {
      "cell_type": "markdown",
      "metadata": {
        "id": "51bg23Fmx-6b"
      },
      "source": [
        "Keyword only arguments"
      ]
    },
    {
      "cell_type": "code",
      "metadata": {
        "id": "RqZwL6WHyHPN"
      },
      "source": [
        "def create_car(*, speed, size):\n",
        "    print(\"Car created with speed\", speed, \"and size\", size)\n",
        "\n",
        "create_car(speed=9, size=3)"
      ],
      "execution_count": null,
      "outputs": []
    },
    {
      "cell_type": "markdown",
      "metadata": {
        "id": "k3Y-h7EAyYhS"
      },
      "source": [
        "Functions as parameters\n",
        "\n",
        "It is possible to pass a function as an argument, operation here is assumed to be a function"
      ]
    },
    {
      "cell_type": "code",
      "metadata": {
        "id": "b_JDJT_6mrqu"
      },
      "source": [
        "def reduce(array, operation):\n",
        "    result = 0\n",
        "    for k, v in enumerate(array):\n",
        "        if k == 0:\n",
        "            result = v\n",
        "        else:\n",
        "            result = operation(v, result)\n",
        "\n",
        "    return result"
      ],
      "execution_count": null,
      "outputs": []
    },
    {
      "cell_type": "markdown",
      "metadata": {
        "id": "X43dSGaQzHye"
      },
      "source": [
        "Apply the function with another function `add_or_subtract`\n"
      ]
    },
    {
      "cell_type": "code",
      "metadata": {
        "id": "6rE5TSZRzFWW"
      },
      "source": [
        "one_to_nine = [1, 2, 3, 4, 5, 6, 7, 8, 9]\n",
        "print(one_to_nine)\n",
        "\n",
        "print(\"Sum of the array\")\n",
        "#The operation is infered from the default parameter of add_or_subtract\n",
        "reduce(one_to_nine, add_or_subtract)"
      ],
      "execution_count": null,
      "outputs": []
    },
    {
      "cell_type": "markdown",
      "metadata": {
        "id": "8tiErQ4PzdFH"
      },
      "source": [
        "Lambdas\n",
        "\n",
        "A function can also be defined anonymously"
      ]
    },
    {
      "cell_type": "code",
      "metadata": {
        "id": "a8bWni3hzadd"
      },
      "source": [
        "print(\"Product of the array\")\n",
        "reduce(one_to_nine, lambda x, y : x * y)"
      ],
      "execution_count": null,
      "outputs": []
    },
    {
      "cell_type": "code",
      "metadata": {
        "id": "8ZIc2R_wlf3H"
      },
      "source": [
        "mul = lambda x, y : x * y"
      ],
      "execution_count": null,
      "outputs": []
    },
    {
      "cell_type": "code",
      "metadata": {
        "colab": {
          "base_uri": "https://localhost:8080/"
        },
        "id": "7SxnwQGCli23",
        "outputId": "a8671d44-1251-4cf4-f1c7-a7a6cf3c8aa9"
      },
      "source": [
        "mul(5,6)"
      ],
      "execution_count": null,
      "outputs": [
        {
          "output_type": "execute_result",
          "data": {
            "text/plain": [
              "30"
            ]
          },
          "metadata": {
            "tags": []
          },
          "execution_count": 104
        }
      ]
    },
    {
      "cell_type": "markdown",
      "metadata": {
        "id": "8rBsR8TgzkhS"
      },
      "source": [
        "Closures\n",
        "\n",
        "A function can return another function with specific behaviours depending on the arguments"
      ]
    },
    {
      "cell_type": "code",
      "metadata": {
        "id": "NQ9l5wxZm4SV"
      },
      "source": [
        "def get_loss(op_reduce, op_foreach):\n",
        "\n",
        "    def loss(a, b):\n",
        "        c = []\n",
        "        for av, bv in zip(a, b):\n",
        "            c.append(op_foreach(av, bv))\n",
        "        return op_reduce(c)\n",
        "\n",
        "    return loss"
      ],
      "execution_count": null,
      "outputs": []
    },
    {
      "cell_type": "markdown",
      "metadata": {
        "id": "-L5B35yEz4Ic"
      },
      "source": [
        "This function can help to define mean squared error"
      ]
    },
    {
      "cell_type": "code",
      "metadata": {
        "id": "w4a2_Al4z4qW"
      },
      "source": [
        "mse_loss = get_loss(lambda x : sum(x) / len(x),\n",
        "                    lambda a, b : (a - b) ** 2)"
      ],
      "execution_count": null,
      "outputs": []
    },
    {
      "cell_type": "markdown",
      "metadata": {
        "id": "jXVJNuY40ARh"
      },
      "source": [
        "Or mean absolute error"
      ]
    },
    {
      "cell_type": "code",
      "metadata": {
        "id": "MYcFxRq70A4K"
      },
      "source": [
        "mae_loss = get_loss(lambda x : sum(x) / len(x),\n",
        "                    lambda a, b : abs(a - b))"
      ],
      "execution_count": null,
      "outputs": []
    },
    {
      "cell_type": "markdown",
      "metadata": {
        "id": "FDKP5V-c0GY8"
      },
      "source": [
        "We can check that it works as intended"
      ]
    },
    {
      "cell_type": "code",
      "metadata": {
        "id": "oYIyTRmN0G6r"
      },
      "source": [
        "list1 = [0, 1, 1, 3, 0, 2, 3]\n",
        "list2 = [1, 1, 2, 0, 0, 2, 3]\n",
        "\n",
        "list_mse = mse_loss(list1, list2)\n",
        "list_mae = mae_loss(list1, list2)\n",
        "\n",
        "print(\"Two lists:\\n\", list1, \"\\n\", list2)\n",
        "print(\"MSE Loss: {}\\nMAE Loss: {}\".format(list_mse, list_mae))"
      ],
      "execution_count": null,
      "outputs": []
    },
    {
      "cell_type": "code",
      "source": [
        "flavors_list = ['strawberry','vanilla','chocolate']\n",
        "counts_list = [12, 10, 5]\n",
        "\n",
        "d = {}\n",
        "\n",
        "for i, f in enumerate(flavors_list):\n",
        "  d[flavors_list[i]] = counts_list[i]\n",
        "\n",
        "\n",
        "print(d)\n",
        "#print(dict(zip(flavors_list, counts_list)))"
      ],
      "metadata": {
        "colab": {
          "base_uri": "https://localhost:8080/"
        },
        "id": "5VgLdInBdirp",
        "outputId": "16a3a7c3-7f1a-42ae-810e-834096e836c4"
      },
      "execution_count": null,
      "outputs": [
        {
          "output_type": "stream",
          "name": "stdout",
          "text": [
            "{'strawberry': 12, 'vanilla': 10, 'chocolate': 5}\n"
          ]
        }
      ]
    },
    {
      "cell_type": "code",
      "source": [
        "flavors_list = ['strawberry','vanilla','chocolate']\n",
        "counts_list = [12, 10, 5]\n",
        "\n",
        "#Function Definition\n",
        "def my_function(flavors_list, counts_list):\n",
        "\n",
        "\n",
        "  return print({'strawberry':12, 'vanilla':10, 'chocolate': 5})\n",
        "\n",
        "#Function Call\n",
        "my_function(flavors_list, counts_list)"
      ],
      "metadata": {
        "id": "9kMmsR_Zd6VG"
      },
      "execution_count": null,
      "outputs": []
    },
    {
      "cell_type": "markdown",
      "metadata": {
        "id": "LoPGG5zNAjoU"
      },
      "source": [
        "## Exceptions"
      ]
    },
    {
      "cell_type": "code",
      "metadata": {
        "id": "eYsGH9tQAlHr"
      },
      "source": [
        "# Throw exception\n",
        "def bar():\n",
        "    foo()\n",
        "\n",
        "def foo():\n",
        "    1 / 0\n",
        "\n",
        "bar()"
      ],
      "execution_count": null,
      "outputs": []
    },
    {
      "cell_type": "code",
      "metadata": {
        "id": "IwpCXA3nA3Ap"
      },
      "source": [
        "# Catch exceptions\n",
        "try:\n",
        "    raise ValueError\n",
        "except ValueError:\n",
        "    print(\"Do something else\")\n",
        "finally:\n",
        "    print(\"This part runs always. It is useful for closing files or \"\n",
        "          \"releasing other resources\")"
      ],
      "execution_count": null,
      "outputs": []
    },
    {
      "cell_type": "markdown",
      "metadata": {
        "id": "dDIyMgbp6YXt"
      },
      "source": [
        "## Asserts"
      ]
    },
    {
      "cell_type": "code",
      "metadata": {
        "id": "D88FRB-16cnd"
      },
      "source": [
        "# Do sanity checks to make sure your code is behaving as expected\n",
        "a = 1\n",
        "assert a + a == 2"
      ],
      "execution_count": null,
      "outputs": []
    },
    {
      "cell_type": "code",
      "metadata": {
        "id": "081dN-A76nuD"
      },
      "source": [
        "# This raises an exception\n",
        "a = 2\n",
        "assert a + a == 2"
      ],
      "execution_count": null,
      "outputs": []
    },
    {
      "cell_type": "markdown",
      "metadata": {
        "id": "p1cOGDXHCR-O"
      },
      "source": [
        "## Classes"
      ]
    },
    {
      "cell_type": "markdown",
      "metadata": {
        "id": "r-PruhWd02K0"
      },
      "source": [
        "Class definition"
      ]
    },
    {
      "cell_type": "code",
      "metadata": {
        "id": "IRXa51OfCPEk"
      },
      "source": [
        "class Shape:\n",
        "    pass"
      ],
      "execution_count": null,
      "outputs": []
    },
    {
      "cell_type": "markdown",
      "metadata": {
        "id": "y93ArCva06GI"
      },
      "source": [
        "`shape` is an object of class `Shape`"
      ]
    },
    {
      "cell_type": "code",
      "metadata": {
        "id": "0m2SgTiS06tB"
      },
      "source": [
        "shape = Shape()\n",
        "type(shape)"
      ],
      "execution_count": null,
      "outputs": []
    },
    {
      "cell_type": "markdown",
      "metadata": {
        "id": "F6zvhV8H1BVA"
      },
      "source": [
        "In legacy python we used to write\n",
        "```python\n",
        "class Shape(object):\n",
        "```\n",
        "This is not needed anymore\n",
        "unless you expect someone to run you code in legacy environment"
      ]
    },
    {
      "cell_type": "markdown",
      "metadata": {
        "id": "C-Kvdhg41Ju3"
      },
      "source": [
        "More on class definitions"
      ]
    },
    {
      "cell_type": "code",
      "metadata": {
        "id": "1tCXVcPAB4YQ"
      },
      "source": [
        "class Shape:\n",
        "    class_field = 9\n",
        "\n",
        "    def __init__(self, name):\n",
        "        self.name = name\n",
        "        self.value = 42\n",
        "\n",
        "    def method(self, a):\n",
        "        return a * 2 + self.value\n",
        "\n",
        "shape = Shape(\"name\")\n",
        "shape.method(7)"
      ],
      "execution_count": null,
      "outputs": []
    },
    {
      "cell_type": "markdown",
      "metadata": {
        "id": "dKU0asYuazOF"
      },
      "source": [
        "## Imports\n",
        "\n",
        "Adding new packages in python is very easy and many packages are available from the box. If you want some library, there is a good chance that someone else wrote it already.\n",
        "\n",
        "Generally, import statement looks like"
      ]
    },
    {
      "cell_type": "code",
      "metadata": {
        "id": "VFeYVIqocjsm"
      },
      "source": [
        "import time\n",
        "\n",
        "time.time()"
      ],
      "execution_count": null,
      "outputs": []
    },
    {
      "cell_type": "markdown",
      "metadata": {
        "id": "0pNMsOuJctzb"
      },
      "source": [
        "You can specify what parts of the package you want to import"
      ]
    },
    {
      "cell_type": "code",
      "metadata": {
        "id": "jfy8OQqwcr0A"
      },
      "source": [
        "from time import time, sleep\n",
        "\n",
        "print(time())\n",
        "sleep(2)\n",
        "print(time())"
      ],
      "execution_count": null,
      "outputs": []
    },
    {
      "cell_type": "markdown",
      "metadata": {
        "id": "1XOUcES3U_7g"
      },
      "source": [
        "## List comprehensions"
      ]
    },
    {
      "cell_type": "code",
      "metadata": {
        "id": "2ii1YsF1VFQt",
        "colab": {
          "base_uri": "https://localhost:8080/"
        },
        "outputId": "d0cacb69-cbf0-4218-a297-f15ed59b2f3a"
      },
      "source": [
        "[i + 1 for i in [1, 2, 3]]"
      ],
      "execution_count": null,
      "outputs": [
        {
          "output_type": "execute_result",
          "data": {
            "text/plain": [
              "[2, 3, 4]"
            ]
          },
          "metadata": {
            "tags": []
          },
          "execution_count": 106
        }
      ]
    },
    {
      "cell_type": "markdown",
      "metadata": {
        "id": "sP1oejrKVUIo"
      },
      "source": [
        "It works with dictionaries too"
      ]
    },
    {
      "cell_type": "code",
      "metadata": {
        "id": "adCDsD7CVOXi",
        "colab": {
          "base_uri": "https://localhost:8080/"
        },
        "outputId": "f3fbdb79-d02f-4f84-f6b2-f8dd93f99c1a"
      },
      "source": [
        "{i: i + 1 for i in [1, 2, 3]}"
      ],
      "execution_count": null,
      "outputs": [
        {
          "output_type": "execute_result",
          "data": {
            "text/plain": [
              "{1: 2, 2: 3, 3: 4}"
            ]
          },
          "metadata": {
            "tags": []
          },
          "execution_count": 105
        }
      ]
    },
    {
      "cell_type": "markdown",
      "metadata": {
        "id": "mSBeBMM-Vi-z"
      },
      "source": [
        "## Other useful features"
      ]
    },
    {
      "cell_type": "markdown",
      "metadata": {
        "id": "LrQ4hw8KVliz"
      },
      "source": [
        "Multiple assignment"
      ]
    },
    {
      "cell_type": "code",
      "metadata": {
        "id": "xq5p8zc9VqW8"
      },
      "source": [
        "a, b = b, a"
      ],
      "execution_count": null,
      "outputs": []
    },
    {
      "cell_type": "markdown",
      "metadata": {
        "id": "8M8zrRNkVuHM"
      },
      "source": [
        "It works with any kind of list-like objects!"
      ]
    },
    {
      "cell_type": "code",
      "metadata": {
        "id": "bKPgc-E2Vxfp"
      },
      "source": [
        "a, b = [10, 11]"
      ],
      "execution_count": null,
      "outputs": []
    },
    {
      "cell_type": "markdown",
      "metadata": {
        "id": "rXH3h0TVVz8r"
      },
      "source": [
        "Starred assignment expressions"
      ]
    },
    {
      "cell_type": "code",
      "metadata": {
        "id": "ydvlwtxOV819"
      },
      "source": [
        "a, *b = [1, 2, 3, 4]\n",
        "print(b)"
      ],
      "execution_count": null,
      "outputs": []
    },
    {
      "cell_type": "code",
      "metadata": {
        "id": "4qAKpJe7xWPu"
      },
      "source": [
        "a, b, *c = [1, 2, 3, 4]\n",
        "print(c)"
      ],
      "execution_count": null,
      "outputs": []
    },
    {
      "cell_type": "markdown",
      "metadata": {
        "id": "FZ4l0DS_WB5-"
      },
      "source": [
        "This works for prefixes and sufixes"
      ]
    },
    {
      "cell_type": "code",
      "metadata": {
        "id": "eX2_V2CRWHLh"
      },
      "source": [
        "*a, b, c = [1, 2, 3, 4]\n",
        "print(a)"
      ],
      "execution_count": null,
      "outputs": []
    },
    {
      "cell_type": "markdown",
      "metadata": {
        "id": "Dqki5Kut9Tqm"
      },
      "source": [
        "The `pass` statement does nothing! It is useful for declaring an empty function or loop"
      ]
    },
    {
      "cell_type": "code",
      "metadata": {
        "id": "r6c37_RO9bqu"
      },
      "source": [
        "# Nothing to see here!\n",
        "pass"
      ],
      "execution_count": null,
      "outputs": []
    },
    {
      "cell_type": "code",
      "metadata": {
        "id": "9PhQovxy9dEt"
      },
      "source": [
        "# This is OK:\n",
        "def some_function():\n",
        "  pass # TODO"
      ],
      "execution_count": null,
      "outputs": []
    },
    {
      "cell_type": "code",
      "metadata": {
        "id": "WhHee8Xl9ghF"
      },
      "source": [
        "# This raises an error:\n",
        "def some_function():\n",
        "  # TODO"
      ],
      "execution_count": null,
      "outputs": []
    },
    {
      "cell_type": "markdown",
      "metadata": {
        "id": "fLy-KY4qOx1b"
      },
      "source": [
        "`timit`\n"
      ]
    },
    {
      "cell_type": "code",
      "metadata": {
        "id": "UoL_-X7MOw8v"
      },
      "source": [
        "import timeit\n",
        "\n",
        "time_1 = timeit.timeit(setup='import math; array = [i for i in range(1,501)]',stmt='[math.sqrt(x) for x in array]', number=10000)\n",
        "time_2 = timeit.timeit(setup='import math; array = [i for i in range(1,51)]',stmt='[math.sqrt(x) for x in array]', number=10000)\n",
        "\n",
        "print('time_1 = ',time_1,' s')\n",
        "print('time_2 = ',time_2,' s')\n",
        "\n",
        "print(\"Difference  = {:.3f} s\".format(time_1-time_2))\n",
        "print(\"Speedup    = {:.3f} x\".format(time_1/time_2))\n",
        "print(\"% Difference = {:.3f}%\".format((time_1-time_2)*100/time_1))"
      ],
      "execution_count": null,
      "outputs": []
    },
    {
      "cell_type": "code",
      "metadata": {
        "id": "qLraDFU4O8B8"
      },
      "source": [
        "[range(25)]"
      ],
      "execution_count": null,
      "outputs": []
    },
    {
      "cell_type": "markdown",
      "metadata": {
        "id": "0Ss0cFrlTtq4"
      },
      "source": [
        "##Additional Exercises\n",
        "[More exercises can be found here](https://pynative.com/python-exercises-with-solutions/)"
      ]
    },
    {
      "cell_type": "markdown",
      "metadata": {
        "id": "bC6Lbt0g5WW0"
      },
      "source": [
        "## Exercise 1\n",
        "Write a function that generates a Python list of all the even numbers between `a` and `b`, inclusively"
      ]
    },
    {
      "cell_type": "code",
      "metadata": {
        "id": "L4XGi3Fr6Bjf"
      },
      "source": [
        "def even_numbers(a, b):\n",
        "  pass # TODO"
      ],
      "execution_count": null,
      "outputs": []
    },
    {
      "cell_type": "code",
      "source": [
        "a = 1\n",
        "b = 10\n",
        "\n"
      ],
      "metadata": {
        "id": "5nq3joS2yH3q"
      },
      "execution_count": null,
      "outputs": []
    },
    {
      "cell_type": "markdown",
      "metadata": {
        "id": "eOm12O8g7py6"
      },
      "source": [
        "## Exercise 2\n",
        "\n",
        "Write a function that returns the largest integer from the given list"
      ]
    },
    {
      "cell_type": "code",
      "metadata": {
        "id": "hON3mr-07ucF"
      },
      "source": [
        "def find_largest(input):\n",
        "  pass # TODO"
      ],
      "execution_count": null,
      "outputs": []
    },
    {
      "cell_type": "markdown",
      "metadata": {
        "id": "cUE9SvlVdc4_"
      },
      "source": [
        "## Exercise 3\n",
        "\n",
        "Write a function that samples a uniform random number from `a` to `b`.\n",
        "\n",
        "Use function `random.random` from package `random`. Documentation is available [here](https://docs.python.org/3.7/library/random.html)"
      ]
    },
    {
      "cell_type": "code",
      "metadata": {
        "id": "Jy7ND3SRkeCj"
      },
      "source": [
        "import random\n",
        "\n",
        "def sample_uniform(a, b):\n",
        "  pass # TODO"
      ],
      "execution_count": null,
      "outputs": []
    },
    {
      "cell_type": "markdown",
      "metadata": {
        "id": "p7CIN4iWr3tx"
      },
      "source": [
        "## Exercise 4\n",
        "\n",
        "Write a function that creates a list of length `n` of samples like in Exercise 3."
      ]
    },
    {
      "cell_type": "code",
      "metadata": {
        "id": "_UFZLC4ssAm1"
      },
      "source": [
        "def generate_samples(n):\n",
        "  pass # TODO"
      ],
      "execution_count": null,
      "outputs": []
    },
    {
      "cell_type": "markdown",
      "metadata": {
        "id": "bDNxuKNHsI-L"
      },
      "source": [
        "## Exercise 5\n",
        "\n",
        "Write a function that takes two lists `list1` and `list2` and merges them without repeating the elements in both lists. Time your computation for different lengths 5, 500 and 5000."
      ]
    },
    {
      "cell_type": "code",
      "metadata": {
        "id": "vhsHU8qXsH50"
      },
      "source": [
        "def compute_average(nums):\n",
        "  pass # TODO"
      ],
      "execution_count": null,
      "outputs": []
    },
    {
      "cell_type": "markdown",
      "metadata": {
        "id": "4RS0grGJsUsK"
      },
      "source": [
        "## Exercise 6\n",
        "\n",
        "Write a function that creates `m` lists like in Exercise 4 and computes average of each list"
      ]
    },
    {
      "cell_type": "code",
      "metadata": {
        "id": "CCl07aGwsTqY"
      },
      "source": [
        "def generate_averages(m):\n",
        "  pass # TODO"
      ],
      "execution_count": null,
      "outputs": []
    },
    {
      "cell_type": "markdown",
      "metadata": {
        "id": "hg4dQwuJLnIJ"
      },
      "source": [
        "## REFERENCES (EN)\n",
        "\n",
        "https://docs.python.org/3/tutorial/\n",
        "\n",
        "https://en.wikibooks.org/wiki/A_Beginner's_Python_Tutorial\n",
        "\n",
        "https://developers.google.com/edu/python)\n",
        "\n",
        "https://www.sololearn.com/Course/Python/\n",
        "\n",
        "https://www.learnpython.org/\n",
        "\n",
        "https://www.datacamp.com/courses/intro-to-python-for-data-science\n",
        "\n",
        "https://www.w3schools.com/python/"
      ]
    },
    {
      "cell_type": "markdown",
      "metadata": {
        "id": "YrCEfH0RL5nO"
      },
      "source": [
        "## REFERENCES (FR)\n",
        "\n",
        "https://docs.python.org/fr/3/tutorial/\n",
        "\n",
        "https://openclassrooms.com/fr/courses/4262331-demarrez-votre-projet-avec-python\n",
        "\n",
        "https://python.doctor/\n",
        "\n",
        "https://zestedesavoir.com/tutoriels/799/apprendre-a-programmer-avec-python-3/\n"
      ]
    }
  ]
}